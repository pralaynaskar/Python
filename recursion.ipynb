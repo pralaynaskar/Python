{
  "nbformat": 4,
  "nbformat_minor": 0,
  "metadata": {
    "colab": {
      "provenance": [],
      "authorship_tag": "ABX9TyPNQxqoErWuJZKBlWsRhxgr",
      "include_colab_link": true
    },
    "kernelspec": {
      "name": "python3",
      "display_name": "Python 3"
    },
    "language_info": {
      "name": "python"
    }
  },
  "cells": [
    {
      "cell_type": "markdown",
      "metadata": {
        "id": "view-in-github",
        "colab_type": "text"
      },
      "source": [
        "<a href=\"https://colab.research.google.com/github/pralaynaskar/Python/blob/main/recursion.ipynb\" target=\"_parent\"><img src=\"https://colab.research.google.com/assets/colab-badge.svg\" alt=\"Open In Colab\"/></a>"
      ]
    },
    {
      "cell_type": "code",
      "execution_count": null,
      "metadata": {
        "id": "z_hK0-EHbSju",
        "colab": {
          "base_uri": "https://localhost:8080/"
        },
        "outputId": "275f60fa-ab9a-400f-b260-9b2466c83f50"
      },
      "outputs": [
        {
          "output_type": "stream",
          "name": "stdout",
          "text": [
            "Enter word1: intention\n",
            "Enter word2: execution\n",
            "Minimum operations required: 5\n"
          ]
        }
      ],
      "source": [
        "def min_distance(word1, word2):\n",
        "    # Base case: if either word is empty, return the length of the other word\n",
        "    if not word1:\n",
        "        return len(word2)\n",
        "    if not word2:\n",
        "        return len(word1)\n",
        "\n",
        "    # If the last characters are the same, ignore them and check the rest\n",
        "    if word1[-1] == word2[-1]:\n",
        "        return min_distance(word1[:-1], word2[:-1])\n",
        "\n",
        "    # Otherwise, find the minimum among the three operations and recurse\n",
        "    insert_op = 1 + min_distance(word1, word2[:-1])  # Insertion\n",
        "    delete_op = 1 + min_distance(word1[:-1], word2)  # Deletion\n",
        "    replace_op = 1 + min_distance(word1[:-1], word2[:-1])  # Replacement\n",
        "\n",
        "    return min(insert_op, delete_op, replace_op)\n",
        "\n",
        "# Take input from the user\n",
        "word1 = input(\"Enter word1: \")\n",
        "word2 = input(\"Enter word2: \")\n",
        "\n",
        "result = min_distance(word1, word2)\n",
        "print(f\"Minimum operations required: {result}\")"
      ]
    },
    {
      "cell_type": "code",
      "source": [
        "def min_distance(word1, word2):\n",
        "    # Base case: if either word is empty, return the length of the other word\n",
        "    if not word1:\n",
        "        return len(word2)\n",
        "    if not word2:\n",
        "        return len(word1)\n",
        "\n",
        "    # If the last characters are the same, ignore them and check the rest\n",
        "    if word1[-1] == word2[-1]:\n",
        "        return min_distance(word1[:-1], word2[:-1])\n",
        "\n",
        "    # Otherwise, find the minimum among the three operations and recurse\n",
        "    insert_op = 1 + min_distance(word1, word2[:-1])  # Insertion\n",
        "    delete_op = 1 + min_distance(word1[:-1], word2)  # Deletion\n",
        "    replace_op = 1 + min_distance(word1[:-1], word2[:-1])  # Replacement\n",
        "\n",
        "    return min(insert_op, delete_op, replace_op)\n",
        "\n",
        "# Take input from the user\n",
        "word1 = input(\"Enter word1: \")\n",
        "word2 = input(\"Enter word2: \")\n",
        "\n",
        "result = min_distance(word1, word2)\n",
        "print(f\"Minimum operations required: {result}\")"
      ],
      "metadata": {
        "colab": {
          "base_uri": "https://localhost:8080/"
        },
        "id": "nIutXiVGd-fT",
        "outputId": "7382fb3e-6d4f-41b8-db87-7efc3c7514a1"
      },
      "execution_count": null,
      "outputs": [
        {
          "output_type": "stream",
          "name": "stdout",
          "text": [
            "Enter word1: horse\n",
            "Enter word2: ros\n",
            "Minimum operations required: 3\n"
          ]
        }
      ]
    },
    {
      "cell_type": "code",
      "source": [
        "def max_value(arr, n):\n",
        "    if n == 1:\n",
        "        return arr[0]\n",
        "    return max(arr[n - 1], max_value(arr, n - 1))\n",
        "\n",
        "def get_valid_input():\n",
        "    while True:\n",
        "        user_array = input(\"Enter the elements of the array separated by spaces: \")\n",
        "        split_array = user_array.split()\n",
        "        try:\n",
        "            # Convert the input into a list of integers\n",
        "            array = [int(num) for num in split_array]\n",
        "            return array\n",
        "        except ValueError:\n",
        "            print(\"Invalid input. Please enter valid integers separated by spaces.\")\n",
        "\n",
        "# Take input from the user for the array\n",
        "array = get_valid_input()\n",
        "\n",
        "# Calculate the maximum value using recursion\n",
        "max_val = max_value(array, len(array))\n",
        "print(f\"The maximum value in the array is: {max_val}\")"
      ],
      "metadata": {
        "colab": {
          "base_uri": "https://localhost:8080/"
        },
        "id": "CGLJMA3le3eh",
        "outputId": "753c33bc-e76f-43e8-e2fa-4fc656b93778"
      },
      "execution_count": 2,
      "outputs": [
        {
          "output_type": "stream",
          "name": "stdout",
          "text": [
            "Enter the elements of the array separated by spaces: 13 1 -3 22 5\n",
            "The maximum value in the array is: 22\n"
          ]
        }
      ]
    },
    {
      "cell_type": "code",
      "source": [
        "def array_sum(arr, n):\n",
        "    if n <= 0:\n",
        "        return 0\n",
        "    return arr[n - 1] + array_sum(arr, n - 1)\n",
        "\n",
        "def get_valid_input():\n",
        "    while True:\n",
        "        user_array = input(\"Enter the elements of the array separated by spaces: \")\n",
        "        split_array = user_array.split()\n",
        "        try:\n",
        "            # Convert the input into a list of integers\n",
        "            array = [int(num) for num in split_array]\n",
        "            return array\n",
        "        except ValueError:\n",
        "            print(\"Invalid input. Please enter valid integers separated by spaces.\")\n",
        "\n",
        "# Take input from the user for the array\n",
        "array = get_valid_input()\n",
        "\n",
        "# Calculate the sum using recursion\n",
        "sum_val = array_sum(array, len(array))\n",
        "print(f\"The sum of the values in the array is: {sum_val}\")"
      ],
      "metadata": {
        "colab": {
          "base_uri": "https://localhost:8080/"
        },
        "id": "ZsU-8yp8iLRi",
        "outputId": "3a30c2bc-656e-4efb-c4ed-a7cbba84b6ff"
      },
      "execution_count": 1,
      "outputs": [
        {
          "output_type": "stream",
          "name": "stdout",
          "text": [
            "Enter the elements of the array separated by spaces: 92 23 15 -20 10\n",
            "The sum of the values in the array is: 120\n"
          ]
        }
      ]
    },
    {
      "cell_type": "code",
      "source": [
        "def is_armstrong_number(n):\n",
        "    # Convert the number to a string to count its digits\n",
        "    num_str = str(n)\n",
        "    num_digits = len(num_str)\n",
        "\n",
        "    # Calculate the sum of each digit raised to the power of total digits\n",
        "    armstrong_sum = sum(int(digit) ** num_digits for digit in num_str)\n",
        "\n",
        "    # Check if the sum is equal to the number\n",
        "    return armstrong_sum == n\n",
        "\n",
        "# Input from the user\n",
        "number = int(input(\"Enter a number to check for Armstrong number: \"))\n",
        "\n",
        "# Check if the number is an Armstrong number and print the result\n",
        "if is_armstrong_number(number):\n",
        "    print(\"Yes\")\n",
        "else:\n",
        "    print(\"No\")"
      ],
      "metadata": {
        "colab": {
          "base_uri": "https://localhost:8080/"
        },
        "id": "UN6w3VRJjkAT",
        "outputId": "db7f4385-0376-485f-8370-560d45d72058"
      },
      "execution_count": 5,
      "outputs": [
        {
          "output_type": "stream",
          "name": "stdout",
          "text": [
            "Enter a number to check for Armstrong number: 153\n",
            "Yes\n"
          ]
        }
      ]
    }
  ]
}