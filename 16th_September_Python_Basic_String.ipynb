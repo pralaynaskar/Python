{
 "cells": [
  {
   "cell_type": "code",
   "execution_count": 1,
   "id": "4d5bf331",
   "metadata": {},
   "outputs": [
    {
     "name": "stdout",
     "output_type": "stream",
     "text": [
      "Before swap ->  25 46\n",
      "After swap ->  46 25\n"
     ]
    }
   ],
   "source": [
    "#Swap the values of these variables without using any temporary variable\n",
    "x = 25\n",
    "y = 46\n",
    "print(\"Before swap -> \",x, y)\n",
    "x,y = y,x\n",
    "print(\"After swap -> \",x, y)"
   ]
  },
  {
   "cell_type": "code",
   "execution_count": 2,
   "id": "8ff215ce",
   "metadata": {},
   "outputs": [
    {
     "name": "stdout",
     "output_type": "stream",
     "text": [
      "Enter the length of the rectangle <- 20\n",
      "Enter the width of the rectangle <- 4\n",
      "The area of the rectangle is ->  80.0\n"
     ]
    }
   ],
   "source": [
    "#Create a program that calculates the area of a rectangle\n",
    "length = float(input(\"Enter the length of the rectangle <- \"))\n",
    "width = float(input(\"Enter the width of the rectangle <- \"))\n",
    "area = width * length\n",
    "print(\"The area of the rectangle is -> \" ,area)"
   ]
  },
  {
   "cell_type": "code",
   "execution_count": 3,
   "id": "9754bba2",
   "metadata": {},
   "outputs": [
    {
     "name": "stdout",
     "output_type": "stream",
     "text": [
      "Enter the temparature in Celsius <- 32\n",
      "Temparature in Fahrenheit ->  89.6\n"
     ]
    }
   ],
   "source": [
    "#Write a Python program that converts temperatures from Celsius to Fahrenheit\n",
    "celsius = float(input(\"Enter the temparature in Celsius <- \"))\n",
    "fahrenheit = (celsius * 9/5) + 32\n",
    "print(\"Temparature in Fahrenheit -> \",fahrenheit)"
   ]
  },
  {
   "cell_type": "code",
   "execution_count": 4,
   "id": "2f6a0143",
   "metadata": {},
   "outputs": [
    {
     "name": "stdout",
     "output_type": "stream",
     "text": [
      "Enter a string <- Pralay\n",
      "The length of the string is ->  6\n"
     ]
    }
   ],
   "source": [
    "#Write a Python program that takes a string as input and prints the length of the string\n",
    "string = input(\"Enter a string <- \")\n",
    "length = len(string)\n",
    "print(\"The length of the string is -> \", length)"
   ]
  },
  {
   "cell_type": "code",
   "execution_count": 5,
   "id": "78bb6bea",
   "metadata": {},
   "outputs": [
    {
     "name": "stdout",
     "output_type": "stream",
     "text": [
      "Enter a sentence <- My name is Pralay Naskar\n",
      "Number of vowels in the sentence ->  7\n"
     ]
    }
   ],
   "source": [
    "#Create a program that takes a sentence from the user and counts the number of vowels (a, e, i, o, u) in the string\n",
    "sentence = input(\"Enter a sentence <- \")\n",
    "count = 0\n",
    "vowels = ['a', 'e', 'i', 'o', 'u']\n",
    "sentence = sentence.lower()\n",
    "\n",
    "for char in sentence:\n",
    "    if char in vowels:\n",
    "        count += 1\n",
    "\n",
    "print(\"Number of vowels in the sentence -> \",count)"
   ]
  },
  {
   "cell_type": "code",
   "execution_count": 6,
   "id": "488aec22",
   "metadata": {},
   "outputs": [
    {
     "name": "stdout",
     "output_type": "stream",
     "text": [
      "Enter a string <- Computer\n",
      "Reverse string ->  retupmoC\n"
     ]
    }
   ],
   "source": [
    "#Given a string, reverse the order of characters using string slicing and print the reversed string\n",
    "string = input(\"Enter a string <- \")\n",
    "reversed_string = string[::-1]\n",
    "print(\"Reverse string -> \", reversed_string)"
   ]
  },
  {
   "cell_type": "code",
   "execution_count": 7,
   "id": "bd55a4bb",
   "metadata": {},
   "outputs": [
    {
     "name": "stdout",
     "output_type": "stream",
     "text": [
      "Enter a string <- Level\n",
      "Level  ->> is a Palindrome string\n"
     ]
    }
   ],
   "source": [
    "#Write a program that takes a string as input and checks if it is a palindrome\n",
    "string = input(\"Enter a string <- \")\n",
    "cleaned_string = string.replace(\" \", \"\").lower()\n",
    "reversed_string = cleaned_string[::-1]\n",
    "\n",
    "if cleaned_string == reversed_string:\n",
    "    print(string, \" ->> is a Palindrome string\")\n",
    "else:\n",
    "    print(string, \" ->> is not a Palindrome string\")"
   ]
  },
  {
   "cell_type": "code",
   "execution_count": 8,
   "id": "1678fa84",
   "metadata": {},
   "outputs": [
    {
     "name": "stdout",
     "output_type": "stream",
     "text": [
      "Enter a string <- Pralay Naskar\n",
      "Modified string ->  PralayNaskar\n"
     ]
    }
   ],
   "source": [
    "#Create a program that takes a string as input and removes all the spaces from it\n",
    "string = input(\"Enter a string <- \")\n",
    "modified_string = string.replace(\" \", \"\")\n",
    "print(\"Modified string -> \", modified_string)"
   ]
  }
 ],
 "metadata": {
  "kernelspec": {
   "display_name": "Python 3 (ipykernel)",
   "language": "python",
   "name": "python3"
  },
  "language_info": {
   "codemirror_mode": {
    "name": "ipython",
    "version": 3
   },
   "file_extension": ".py",
   "mimetype": "text/x-python",
   "name": "python",
   "nbconvert_exporter": "python",
   "pygments_lexer": "ipython3",
   "version": "3.11.4"
  }
 },
 "nbformat": 4,
 "nbformat_minor": 5
}
