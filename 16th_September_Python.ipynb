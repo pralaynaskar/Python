{
 "cells": [
  {
   "cell_type": "code",
   "execution_count": 1,
   "id": "32674767",
   "metadata": {},
   "outputs": [
    {
     "name": "stdout",
     "output_type": "stream",
     "text": [
      "Before swap ->  25 46\n",
      "After swap ->  46 25\n"
     ]
    }
   ],
   "source": [
    "#Assign random value in x & y\n",
    "x = 25\n",
    "y = 46\n",
    "\n",
    "#Display the result before swap\n",
    "print(\"Before swap -> \",x, y)\n",
    "\n",
    "#Swap without third variable\n",
    "x,y = y,x\n",
    "\n",
    "#Display the result after swap\n",
    "print(\"After swap -> \",x, y)"
   ]
  },
  {
   "cell_type": "code",
   "execution_count": 2,
   "id": "15d7ea6a",
   "metadata": {},
   "outputs": [
    {
     "name": "stdout",
     "output_type": "stream",
     "text": [
      "Enter the length of the rectangle <- 20\n",
      "Enter the width of the rectangle <- 5\n",
      "The area of the rectangle is ->  100.0\n"
     ]
    }
   ],
   "source": [
    "#Get the length & width from the user\n",
    "length = float(input(\"Enter the length of the rectangle <- \"))\n",
    "width = float(input(\"Enter the width of the rectangle <- \"))\n",
    "\n",
    "#Calculte the Area\n",
    "area = width * length\n",
    "\n",
    "#Display the result\n",
    "print(\"The area of the rectangle is -> \" ,area)"
   ]
  },
  {
   "cell_type": "code",
   "execution_count": 3,
   "id": "57b54882",
   "metadata": {},
   "outputs": [
    {
     "name": "stdout",
     "output_type": "stream",
     "text": [
      "Enter the temparature in Celsius <- 32\n",
      "Temparature in Fahrenheit ->  89.6\n"
     ]
    }
   ],
   "source": [
    "#Get the temparature in Celsius from the user\n",
    "celsius = float(input(\"Enter the temparature in Celsius <- \"))\n",
    "\n",
    "#Convert Celsius to Fahrenheit\n",
    "fahrenheit = (celsius * 9/5) + 32\n",
    "\n",
    "#Display the result\n",
    "print(\"Temparature in Fahrenheit -> \",fahrenheit)"
   ]
  },
  {
   "cell_type": "code",
   "execution_count": 4,
   "id": "dcba9442",
   "metadata": {},
   "outputs": [
    {
     "name": "stdout",
     "output_type": "stream",
     "text": [
      "Enter a string <- Pralay\n",
      "The length of the string is ->  6\n"
     ]
    }
   ],
   "source": [
    "#Get a string from the user\n",
    "string = input(\"Enter a string <- \")\n",
    "\n",
    "#Calculate & print the length of the String\n",
    "length = len(string)\n",
    "print(\"The length of the string is -> \", length)"
   ]
  },
  {
   "cell_type": "code",
   "execution_count": 5,
   "id": "8a7b9f64",
   "metadata": {},
   "outputs": [
    {
     "name": "stdout",
     "output_type": "stream",
     "text": [
      "Enter a sentence <- My name is Pralay Naskar\n",
      "Number of vowels in the sentence ->  7\n"
     ]
    }
   ],
   "source": [
    "#Get a sentence from the user\n",
    "sentence = input(\"Enter a sentence <- \")\n",
    "\n",
    "#Initialize a variable for count the vowels\n",
    "v_count = 0\n",
    "\n",
    "#Define list of vowels\n",
    "vowels = ['a', 'e', 'i', 'o', 'u']\n",
    "\n",
    "#Convert sentence to lowercase\n",
    "sentence = sentence.lower()\n",
    "\n",
    "#Iterate through each character in the sentence\n",
    "for char in sentence:\n",
    "    #Check if the character is a vowel \n",
    "    if char in vowels:\n",
    "        v_count += 1\n",
    "        \n",
    "#Display the count of vowels\n",
    "print(\"Number of vowels in the sentence -> \",v_count)"
   ]
  },
  {
   "cell_type": "code",
   "execution_count": 6,
   "id": "8d0ccfbc",
   "metadata": {},
   "outputs": [
    {
     "name": "stdout",
     "output_type": "stream",
     "text": [
      "Enter a string <- Computer\n",
      "Reverse string ->  retupmoC\n"
     ]
    }
   ],
   "source": [
    "#Get a string from the user\n",
    "string = input(\"Enter a string <- \")\n",
    "\n",
    "#Use string slicing to reverse the string\n",
    "reversed_string = string[::-1]\n",
    "\n",
    "#Display the reverse string\n",
    "print(\"Reverse string -> \", reversed_string)"
   ]
  },
  {
   "cell_type": "code",
   "execution_count": 7,
   "id": "9da92578",
   "metadata": {},
   "outputs": [
    {
     "name": "stdout",
     "output_type": "stream",
     "text": [
      "Enter a string <- Level\n",
      "Level  ->> is a Palindrome string\n"
     ]
    }
   ],
   "source": [
    "#Get a string from the user\n",
    "string = input(\"Enter a string <- \")\n",
    "\n",
    "#Remove spaces and convert the string to lowercase\n",
    "cleaned_string = string.replace(\" \", \"\").lower()\n",
    "\n",
    "#Reverse the string using string slicing\n",
    "reversed_string = cleaned_string[::-1]\n",
    "\n",
    "#check if the original string is the same as it's reverse\n",
    "if cleaned_string == reversed_string:\n",
    "    print(string, \" ->> is a Palindrome string\")\n",
    "else:\n",
    "    print(string, \" ->> is not a Palindrome string\")"
   ]
  },
  {
   "cell_type": "code",
   "execution_count": 8,
   "id": "74bb1283",
   "metadata": {},
   "outputs": [
    {
     "name": "stdout",
     "output_type": "stream",
     "text": [
      "Enter a string <- Hello World\n",
      "Modified string ->  HelloWorld\n"
     ]
    }
   ],
   "source": [
    "#Get a string from the user\n",
    "string = input(\"Enter a string <- \")\n",
    "\n",
    "#Remove spaces from the string\n",
    "modified_string = string.replace(\" \", \"\")\n",
    "\n",
    "#Display the modified string\n",
    "print(\"Modified string -> \", modified_string)"
   ]
  }
 ],
 "metadata": {
  "kernelspec": {
   "display_name": "Python 3 (ipykernel)",
   "language": "python",
   "name": "python3"
  },
  "language_info": {
   "codemirror_mode": {
    "name": "ipython",
    "version": 3
   },
   "file_extension": ".py",
   "mimetype": "text/x-python",
   "name": "python",
   "nbconvert_exporter": "python",
   "pygments_lexer": "ipython3",
   "version": "3.11.4"
  }
 },
 "nbformat": 4,
 "nbformat_minor": 5
}
