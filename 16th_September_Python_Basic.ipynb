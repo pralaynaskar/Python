{
 "cells": [
  {
   "cell_type": "code",
   "execution_count": 1,
   "id": "c5a14c59",
   "metadata": {
    "scrolled": true
   },
   "outputs": [
    {
     "name": "stdout",
     "output_type": "stream",
     "text": [
      "Before swap ->  25 46\n",
      "After swap ->  46 25\n"
     ]
    }
   ],
   "source": [
    "#Assign random value in x & y\n",
    "x = 25\n",
    "y = 46\n",
    "\n",
    "#Display the result before swap\n",
    "print(\"Before swap -> \",x, y)\n",
    "\n",
    "#Swap without third variable\n",
    "x,y = y,x\n",
    "\n",
    "#Display the result after swap\n",
    "print(\"After swap -> \",x, y)"
   ]
  },
  {
   "cell_type": "code",
   "execution_count": 6,
   "id": "4c88cb71",
   "metadata": {},
   "outputs": [
    {
     "name": "stdout",
     "output_type": "stream",
     "text": [
      "Enter the length of the rectangle <- 20\n",
      "Enter the width of the rectangle <- 5\n",
      "The area of the rectangle is ->  100.0\n"
     ]
    }
   ],
   "source": [
    "#Get the length & width from the user\n",
    "length = float(input(\"Enter the length of the rectangle <- \"))\n",
    "width = float(input(\"Enter the width of the rectangle <- \"))\n",
    "\n",
    "#Calculte the Area\n",
    "area = width * length\n",
    "\n",
    "#Display the result\n",
    "print(\"The area of the rectangle is -> \" ,area)"
   ]
  },
  {
   "cell_type": "code",
   "execution_count": 8,
   "id": "cab4d4bf",
   "metadata": {},
   "outputs": [
    {
     "name": "stdout",
     "output_type": "stream",
     "text": [
      "Enter the temparature in Celsius <- 31\n",
      "Temparature in Fahrenheit ->  87.8\n"
     ]
    }
   ],
   "source": [
    "#Get the temparature in Celsius from the user\n",
    "celsius = float(input(\"Enter the temparature in Celsius <- \"))\n",
    "\n",
    "#Convert Celsius to Fahrenheit\n",
    "fahrenheit = (celsius * 9/5) + 32\n",
    "\n",
    "#Display the result\n",
    "print(\"Temparature in Fahrenheit -> \",fahrenheit)"
   ]
  }
 ],
 "metadata": {
  "kernelspec": {
   "display_name": "Python 3 (ipykernel)",
   "language": "python",
   "name": "python3"
  },
  "language_info": {
   "codemirror_mode": {
    "name": "ipython",
    "version": 3
   },
   "file_extension": ".py",
   "mimetype": "text/x-python",
   "name": "python",
   "nbconvert_exporter": "python",
   "pygments_lexer": "ipython3",
   "version": "3.11.4"
  }
 },
 "nbformat": 4,
 "nbformat_minor": 5
}
