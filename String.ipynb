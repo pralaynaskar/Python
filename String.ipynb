{
  "nbformat": 4,
  "nbformat_minor": 0,
  "metadata": {
    "colab": {
      "provenance": [],
      "authorship_tag": "ABX9TyOTGVaI44BcRK3V7uhgfkTy",
      "include_colab_link": true
    },
    "kernelspec": {
      "name": "python3",
      "display_name": "Python 3"
    },
    "language_info": {
      "name": "python"
    }
  },
  "cells": [
    {
      "cell_type": "markdown",
      "metadata": {
        "id": "view-in-github",
        "colab_type": "text"
      },
      "source": [
        "<a href=\"https://colab.research.google.com/github/pralaynaskar/Python/blob/main/String.ipynb\" target=\"_parent\"><img src=\"https://colab.research.google.com/assets/colab-badge.svg\" alt=\"Open In Colab\"/></a>"
      ]
    },
    {
      "cell_type": "code",
      "execution_count": null,
      "metadata": {
        "colab": {
          "base_uri": "https://localhost:8080/"
        },
        "id": "Ny7gquHV9iEP",
        "outputId": "f79cfd0a-ee4d-4f73-c820-3c34ed216c0d"
      },
      "outputs": [
        {
          "output_type": "stream",
          "name": "stdout",
          "text": [
            "Enter a string: Pralay\n",
            "Original string:  Pralay\n",
            "Reverse string:  yalarP\n"
          ]
        }
      ],
      "source": [
        "# Revese String\n",
        "s = input(\"Enter a string: \")\n",
        "rs = \"\"\n",
        "for char in s:\n",
        "  rs = char + rs\n",
        "print(\"Original string: \",s)\n",
        "print(\"Reverse string: \",rs)"
      ]
    },
    {
      "cell_type": "code",
      "source": [
        "# Check Palindrome String\n",
        "s = input(\"Enter a string: \")\n",
        "ls = s.lower()\n",
        "rs = \"\"\n",
        "for char in ls:\n",
        "  rs = char + rs\n",
        "if rs == ls:\n",
        "  print(f\"{s} is Palindrome\")\n",
        "else:\n",
        "  print(f\"{s} is not Palindrome\")"
      ],
      "metadata": {
        "colab": {
          "base_uri": "https://localhost:8080/"
        },
        "id": "wdsJRYFC-x6E",
        "outputId": "c1e550e9-d523-43d0-867d-d9f07548b6c7"
      },
      "execution_count": null,
      "outputs": [
        {
          "output_type": "stream",
          "name": "stdout",
          "text": [
            "Enter a string: Madam\n",
            "Madam is Palindrome\n"
          ]
        }
      ]
    },
    {
      "cell_type": "code",
      "source": [
        "#Covert String Uppercase\n",
        "s = input(\"Enter a string: \")\n",
        "us = s.upper()\n",
        "print(\"Original string: \",s)\n",
        "print(\"Uppercase string: \",us)"
      ],
      "metadata": {
        "colab": {
          "base_uri": "https://localhost:8080/"
        },
        "id": "1og0aUkY_0UI",
        "outputId": "3d528cda-eb7b-462a-d5cd-8d13de8a04fd"
      },
      "execution_count": null,
      "outputs": [
        {
          "output_type": "stream",
          "name": "stdout",
          "text": [
            "Enter a string: Pralay\n",
            "Original string:  Pralay\n",
            "Uppercase string:  PRALAY\n"
          ]
        }
      ]
    },
    {
      "cell_type": "code",
      "source": [
        "#Convert string Lowercase\n",
        "s = input(\"Enter a string: \")\n",
        "ls = s.lower()\n",
        "print(\"Original string: \",s)\n",
        "print(\"Lowercase string: \",ls)"
      ],
      "metadata": {
        "colab": {
          "base_uri": "https://localhost:8080/"
        },
        "id": "yClTrGyCAUCf",
        "outputId": "ef67c12c-d953-4775-a065-4e9006098b2f"
      },
      "execution_count": null,
      "outputs": [
        {
          "output_type": "stream",
          "name": "stdout",
          "text": [
            "Enter a string: PRalaY\n",
            "Original string:  PRalaY\n",
            "Lowercase string:  pralay\n"
          ]
        }
      ]
    },
    {
      "cell_type": "code",
      "source": [
        "#Count number of vowels\n",
        "s = input(\"Enter a string: \")\n",
        "v = \"aeiouAEIOU\"\n",
        "c = 0\n",
        "for char in s:\n",
        "  if char in v:\n",
        "    c += 1\n",
        "print(\"Vowel Count: \",c)"
      ],
      "metadata": {
        "colab": {
          "base_uri": "https://localhost:8080/"
        },
        "id": "e_ng1BBzA35Z",
        "outputId": "c9424260-da36-47f7-a86f-ddf62e03b3cd"
      },
      "execution_count": null,
      "outputs": [
        {
          "output_type": "stream",
          "name": "stdout",
          "text": [
            "Enter a string: Pralay\n",
            "Vowel Count:  2\n"
          ]
        }
      ]
    },
    {
      "cell_type": "code",
      "source": [
        "#Count number of consonants\n",
        "s = input(\"Enter a string: \")\n",
        "v = \"aeiouAEIOU\"\n",
        "c = 0\n",
        "for char in s:\n",
        "  if char not in v:\n",
        "    c += 1\n",
        "print(\"Consonant Count: \",c)"
      ],
      "metadata": {
        "colab": {
          "base_uri": "https://localhost:8080/"
        },
        "id": "9Cbgj__eCGi1",
        "outputId": "3c469adf-796f-465b-a046-c885aec4986c"
      },
      "execution_count": null,
      "outputs": [
        {
          "output_type": "stream",
          "name": "stdout",
          "text": [
            "Enter a string: Pralay\n",
            "Consonant Count:  4\n"
          ]
        }
      ]
    },
    {
      "cell_type": "code",
      "source": [
        "#Remove whitespaces\n",
        "s = input(\"Enter a string: \")\n",
        "ws = \"\"\n",
        "for char in s:\n",
        "  if char != \" \":\n",
        "    ws += char\n",
        "print(\"String withour Whitespaces: \",ws)"
      ],
      "metadata": {
        "colab": {
          "base_uri": "https://localhost:8080/"
        },
        "id": "CSVWI41BCXpu",
        "outputId": "a351eb66-2a01-4c87-f8d6-1e6786daec27"
      },
      "execution_count": null,
      "outputs": [
        {
          "output_type": "stream",
          "name": "stdout",
          "text": [
            "Enter a string: Pralay Naskar\n",
            "String withour Whitespaces:  PralayNaskar\n"
          ]
        }
      ]
    },
    {
      "cell_type": "code",
      "source": [
        "#length of the string\n",
        "s = input(\"Enter a string: \")\n",
        "c = 0\n",
        "for char in s:\n",
        "    c += 1\n",
        "print(\"Length of the string: \",c)"
      ],
      "metadata": {
        "colab": {
          "base_uri": "https://localhost:8080/"
        },
        "id": "ycvWfbA_DVZO",
        "outputId": "0ff96106-5803-413e-c304-2aec5a59e805"
      },
      "execution_count": null,
      "outputs": [
        {
          "output_type": "stream",
          "name": "stdout",
          "text": [
            "Enter a string: Pralay Naskar\n",
            "Length of the string:  13\n"
          ]
        }
      ]
    },
    {
      "cell_type": "code",
      "source": [
        "#Check if string contains a specific word\n",
        "s = input(\"Enter a string: \")\n",
        "w = input(\"Enter the word to be find: \")\n",
        "if w in s.split():\n",
        "  print(f\"{w} is found in the string\")\n",
        "else:\n",
        "  print(f\"{w} is not found in the string\")"
      ],
      "metadata": {
        "colab": {
          "base_uri": "https://localhost:8080/"
        },
        "id": "q2mgyUlgD0_j",
        "outputId": "985b11f9-73b9-4272-89dc-954bcb1c67ca"
      },
      "execution_count": null,
      "outputs": [
        {
          "output_type": "stream",
          "name": "stdout",
          "text": [
            "Enter a string: My name is Pralay Naskar\n",
            "Enter the word to be find: name\n",
            "name is found in the string\n"
          ]
        }
      ]
    },
    {
      "cell_type": "code",
      "source": [
        "#Replace a word\n",
        "s = input(\"Enter a string: \")\n",
        "ow = input(\"Enter the word to replace: \")\n",
        "nw = input(\"Enter the replacement word: \")\n",
        "ms= s.replace(ow, nw)\n",
        "print(\"Original String:\", s)\n",
        "print(\"Modified String:\", ms)"
      ],
      "metadata": {
        "colab": {
          "base_uri": "https://localhost:8080/"
        },
        "id": "1s5FycqOKB53",
        "outputId": "1cf74461-67ed-427a-f394-ace10ba0b6da"
      },
      "execution_count": null,
      "outputs": [
        {
          "output_type": "stream",
          "name": "stdout",
          "text": [
            "Enter a string: My name is Tiku Naskar\n",
            "Enter the word to replace: Tiku\n",
            "Enter the replacement word: Pralay\n",
            "Original String: My name is Tiku Naskar\n",
            "Modified String: My name is Pralay Naskar\n"
          ]
        }
      ]
    },
    {
      "cell_type": "code",
      "source": [
        "# Count occurrences of a word\n",
        "s = input(\"Enter a string: \")\n",
        "w = input(\"Enter the word to be count: \")\n",
        "ws = s.split()\n",
        "c = 0\n",
        "for word in ws:\n",
        "  cw = word.strip('.,!?').lower()\n",
        "  if cw == w.lower():\n",
        "    c += 1\n",
        "print(f\"The word '{w}' appears {c} times in the string.\")"
      ],
      "metadata": {
        "colab": {
          "base_uri": "https://localhost:8080/"
        },
        "id": "55Vt0bwJLJ1s",
        "outputId": "5aeaff00-c027-4840-e470-7fef73f14ec9"
      },
      "execution_count": null,
      "outputs": [
        {
          "output_type": "stream",
          "name": "stdout",
          "text": [
            "Enter a string: The Indian Army is the land-based branch and largest component of the Indian Armed Forces. The President of India is the Supreme Commander of the Indian Army, and its professional head is the Chief of Army Staff.\n",
            "Enter the word to be count: Army\n",
            "The word 'Army' appears 3 times in the string.\n"
          ]
        }
      ]
    },
    {
      "cell_type": "code",
      "source": [
        "# Find the first occurrence of a word in a string\n",
        "s = input(\"Enter a string: \")\n",
        "w = input(\"Enter the word to be found: \")\n",
        "sl = len(s)\n",
        "wl = len(w)\n",
        "found = False\n",
        "for i in range(sl - wl + 1):\n",
        "  if s[i:i + wl] == w:\n",
        "    print(f\"The first occurrence of '{w}' is at index {i}.\")\n",
        "    found = True\n",
        "    break\n",
        "if not found:\n",
        "  print(f\"'{w}' not found in the text.\")"
      ],
      "metadata": {
        "colab": {
          "base_uri": "https://localhost:8080/"
        },
        "id": "s1qPQPrLUADc",
        "outputId": "faab01eb-2c38-4484-dd0a-0b3498f73bb8"
      },
      "execution_count": null,
      "outputs": [
        {
          "output_type": "stream",
          "name": "stdout",
          "text": [
            "Enter a string: The Indian Army is the land-based branch and largest component of the Indian Armed Forces. The President of India is the Supreme Commander of the Indian Army, and its professional head is the Chief of Army Staff.\n",
            "Enter the word to be found: Army\n",
            "The first occurrence of 'Army' is at index 11.\n"
          ]
        }
      ]
    },
    {
      "cell_type": "code",
      "source": [
        "# Find the first occurrence of a word in a string\n",
        "s = input(\"Enter a string: \")\n",
        "w = input(\"Enter the word to be found: \")\n",
        "sl = len(s)\n",
        "wl = len(w)\n",
        "found = -1\n",
        "for i in range(sl - wl + 1):\n",
        "  if s[i:i + wl] == w:\n",
        "    found = i\n",
        "if found != -1:\n",
        "  print(f\"The last occurrence of '{w}' is at index {found}.\")\n",
        "else:\n",
        "  print(f\"'{w}' not found in the text.\")"
      ],
      "metadata": {
        "colab": {
          "base_uri": "https://localhost:8080/"
        },
        "id": "lZ3sZCyjW6EE",
        "outputId": "6b35fcb4-5adc-4676-e171-de2681f82381"
      },
      "execution_count": null,
      "outputs": [
        {
          "output_type": "stream",
          "name": "stdout",
          "text": [
            "Enter a string: The Indian Army is the land-based branch and largest component of the Indian Armed Forces. The President of India is the Supreme Commander of the Indian Army, and its professional head is the Chief of Army Staff.\n",
            "Enter the word to be found: Army\n",
            "The last occurrence of 'Army' is at index 201.\n"
          ]
        }
      ]
    },
    {
      "cell_type": "code",
      "source": [
        "# Split a string into a list of words\n",
        "s = input(\"Enter a string: \")\n",
        "wlist = s.split()\n",
        "print(\"List of words: \",wlist)"
      ],
      "metadata": {
        "colab": {
          "base_uri": "https://localhost:8080/"
        },
        "id": "ErQ5EZUqYPyv",
        "outputId": "e9906ac7-fb59-4886-86d8-324c58a50c2b"
      },
      "execution_count": null,
      "outputs": [
        {
          "output_type": "stream",
          "name": "stdout",
          "text": [
            "Enter a string: My name is Pralay Naskar\n",
            "List of words:  ['My', 'name', 'is', 'Pralay', 'Naskar']\n"
          ]
        }
      ]
    },
    {
      "cell_type": "code",
      "source": [
        "# Join a list of words into string\n",
        "s = input(\"Enter a list of words separated by spaces: \").split()\n",
        "rs = ' '.join(s)\n",
        "print(\"Result:\", rs)"
      ],
      "metadata": {
        "colab": {
          "base_uri": "https://localhost:8080/"
        },
        "id": "9Fh-fESUZAUu",
        "outputId": "afab4ece-48b4-42d3-c3ff-ab81f0ff61d7"
      },
      "execution_count": null,
      "outputs": [
        {
          "output_type": "stream",
          "name": "stdout",
          "text": [
            "Enter a list of words separated by spaces: The Indian Armed Forces\n",
            "Result: The Indian Armed Forces\n"
          ]
        }
      ]
    },
    {
      "cell_type": "code",
      "source": [
        "# Convert a string where words are separated by spaces to one where words are separated by underscores\n",
        "s = input(\"Enter a string with words separated by spaces: \")\n",
        "rs = s.replace(' ','_')\n",
        "print(\"Result:\", rs)"
      ],
      "metadata": {
        "colab": {
          "base_uri": "https://localhost:8080/"
        },
        "id": "PAr0Wdn1Zvwy",
        "outputId": "3f6f5bb4-b9fd-4625-935f-98e7b16dfacd"
      },
      "execution_count": null,
      "outputs": [
        {
          "output_type": "stream",
          "name": "stdout",
          "text": [
            "Enter a string with words separated by spaces: The Indian Armed Forces\n",
            "Result: The_Indian_Armed_Forces\n"
          ]
        }
      ]
    },
    {
      "cell_type": "code",
      "source": [
        "# Check if a string starts with a specific word or phrase\n",
        "s = input(\"Enter a string: \")\n",
        "word = input(\"Enter the word or phrase to check if the string starts with: \")\n",
        "\n",
        "if s.find(word) == 0:\n",
        "    print(f\"The string starts with '{word}'.\")\n",
        "else:\n",
        "    print(f\"The string does not start with '{word}'.\")"
      ],
      "metadata": {
        "colab": {
          "base_uri": "https://localhost:8080/"
        },
        "id": "AnpjkgKilQTB",
        "outputId": "9084fcd0-4e7c-4c8b-a057-add6376f1a0b"
      },
      "execution_count": null,
      "outputs": [
        {
          "output_type": "stream",
          "name": "stdout",
          "text": [
            "Enter a string: Hello, how are you?\n",
            "Enter the word or phrase to check if the string starts with: Hello\n",
            "The string starts with 'Hello'.\n"
          ]
        }
      ]
    },
    {
      "cell_type": "code",
      "source": [
        "# Check if a string ends with a specific word or phrase\n",
        "s = input(\"Enter a string: \")\n",
        "word = input(\"Enter the word or phrase to check if the string ends with: \")\n",
        "\n",
        "if s[-len(word):] == word:\n",
        "    print(f\"The string ends with '{word}'.\")\n",
        "else:\n",
        "    print(f\"The string does not end with '{word}'.\")"
      ],
      "metadata": {
        "colab": {
          "base_uri": "https://localhost:8080/"
        },
        "id": "Y0ic4p7sm6sm",
        "outputId": "f9eed110-d437-47e8-9a9e-e3e245828d4b"
      },
      "execution_count": null,
      "outputs": [
        {
          "output_type": "stream",
          "name": "stdout",
          "text": [
            "Enter a string: Python is a great programming language\n",
            "Enter the word or phrase to check if the string ends with: language\n",
            "The string ends with 'language'.\n"
          ]
        }
      ]
    },
    {
      "cell_type": "code",
      "source": [
        "# Convert a string to title case\n",
        "s = input(\"Enter a string: \")\n",
        "\n",
        "title_case = s.title()\n",
        "print(f\"The string in title case: {title_case}\")\n"
      ],
      "metadata": {
        "colab": {
          "base_uri": "https://localhost:8080/"
        },
        "id": "tJRSRkDXnhsl",
        "outputId": "fbc7ab64-cb28-4fbe-d7d2-876b6125e20a"
      },
      "execution_count": null,
      "outputs": [
        {
          "output_type": "stream",
          "name": "stdout",
          "text": [
            "Enter a string: hello world\n",
            "The string in title case: Hello World\n"
          ]
        }
      ]
    },
    {
      "cell_type": "code",
      "source": [
        "# Find the longest word in a string\n",
        "s = input(\"Enter a string: \")\n",
        "\n",
        "words = s.split()\n",
        "longest_word = \"\"\n",
        "\n",
        "for word in words:\n",
        "    if len(word) > len(longest_word):\n",
        "        longest_word = word\n",
        "\n",
        "print(f\"The longest word in the string is: {longest_word}\")"
      ],
      "metadata": {
        "colab": {
          "base_uri": "https://localhost:8080/"
        },
        "id": "AOK4xCfmpCPS",
        "outputId": "e81dba64-febb-4d43-ce13-7191265cf0e0"
      },
      "execution_count": null,
      "outputs": [
        {
          "output_type": "stream",
          "name": "stdout",
          "text": [
            "Enter a string: Hi I am learning python\n",
            "The longest word in the string is: learning\n"
          ]
        }
      ]
    },
    {
      "cell_type": "code",
      "source": [
        "# Find the shortest word in a string\n",
        "s = input(\"Enter a string: \")\n",
        "\n",
        "words = s.split()\n",
        "shortest_word = words[0]  # Initialize shortest_word with the first word\n",
        "\n",
        "for word in words:\n",
        "    if len(word) < len(shortest_word):\n",
        "        shortest_word = word\n",
        "\n",
        "print(f\"The shortest word in the string is: {shortest_word}\")"
      ],
      "metadata": {
        "colab": {
          "base_uri": "https://localhost:8080/"
        },
        "id": "tX74UQEgpCNK",
        "outputId": "53a43c69-6608-48ef-ae88-8a32e01c9375"
      },
      "execution_count": null,
      "outputs": [
        {
          "output_type": "stream",
          "name": "stdout",
          "text": [
            "Enter a string: Hi I am learning python\n",
            "The shortest word in the string is: I\n"
          ]
        }
      ]
    },
    {
      "cell_type": "code",
      "source": [
        "# Reverse the order of words in a string\n",
        "s = input(\"Enter a string: \")\n",
        "\n",
        "words = s.split()\n",
        "reversed_string = ' '.join(words[::-1])\n",
        "\n",
        "print(f\"The string with reversed words: {reversed_string}\")"
      ],
      "metadata": {
        "colab": {
          "base_uri": "https://localhost:8080/"
        },
        "id": "GrDhdnCuqEHX",
        "outputId": "206a0d9a-1fde-4a7e-d870-9bcf102a02ae"
      },
      "execution_count": null,
      "outputs": [
        {
          "output_type": "stream",
          "name": "stdout",
          "text": [
            "Enter a string: Hi I am learning python\n",
            "The string with reversed words: python learning am I Hi\n"
          ]
        }
      ]
    },
    {
      "cell_type": "code",
      "source": [
        "# Check if a string is alphanumeric\n",
        "s = input(\"Enter a string: \")\n",
        "\n",
        "if s.isalnum():\n",
        "    print(\"The string is alphanumeric.\")\n",
        "else:\n",
        "    print(\"The string is not alphanumeric.\")\n"
      ],
      "metadata": {
        "colab": {
          "base_uri": "https://localhost:8080/"
        },
        "id": "UKfRpz2Gq2iH",
        "outputId": "ebc7653d-4ffc-4e4a-a0fe-8d2657387fbb"
      },
      "execution_count": null,
      "outputs": [
        {
          "output_type": "stream",
          "name": "stdout",
          "text": [
            "Enter a string: pralay002\n",
            "The string is alphanumeric.\n"
          ]
        }
      ]
    },
    {
      "cell_type": "code",
      "source": [
        "# Extract all digits from a string\n",
        "s = input(\"Enter a string: \")\n",
        "ed = \"\"\n",
        "for char in s:\n",
        "    if char.isdigit():\n",
        "        ed += char\n",
        "\n",
        "print(\"Digits extracted from the string:\", ed)"
      ],
      "metadata": {
        "colab": {
          "base_uri": "https://localhost:8080/"
        },
        "id": "KhHPtaqRq2fe",
        "outputId": "0b832bb0-85fa-4c35-9c19-5bafb88e4bce"
      },
      "execution_count": null,
      "outputs": [
        {
          "output_type": "stream",
          "name": "stdout",
          "text": [
            "Enter a string: pralay2023@hello.world\n",
            "Digits extracted from the string: 2023\n"
          ]
        }
      ]
    },
    {
      "cell_type": "code",
      "source": [
        "# Extract all alphabets from a string\n",
        "s = input(\"Enter a string: \")\n",
        "ea = \"\"\n",
        "for char in s:\n",
        "    if char.isalpha():\n",
        "        ea += char\n",
        "\n",
        "print(\"Alphabets extracted from the string:\", ea)"
      ],
      "metadata": {
        "colab": {
          "base_uri": "https://localhost:8080/"
        },
        "id": "II4pSexEr_WW",
        "outputId": "efbc729a-715a-4f3c-f1e9-642bdb87e7a9"
      },
      "execution_count": null,
      "outputs": [
        {
          "output_type": "stream",
          "name": "stdout",
          "text": [
            "Enter a string: pralay2023@hello.world\n",
            "Alphabets extracted from the string: pralayhelloworld\n"
          ]
        }
      ]
    },
    {
      "cell_type": "code",
      "source": [
        "# Count the number of uppercase letters in a string\n",
        "s = input(\"Enter a string: \")\n",
        "c = 0\n",
        "\n",
        "for char in s:\n",
        "    if char.isupper():\n",
        "        c += 1\n",
        "\n",
        "print(\"Number of uppercase letters:\", c)"
      ],
      "metadata": {
        "colab": {
          "base_uri": "https://localhost:8080/"
        },
        "id": "-6bRO8W6r_Tp",
        "outputId": "bb9a0f9a-4df4-49e6-e4d3-a1b3df979973"
      },
      "execution_count": null,
      "outputs": [
        {
          "output_type": "stream",
          "name": "stdout",
          "text": [
            "Enter a string: Hi I am learning python\n",
            "Number of uppercase letters: 2\n"
          ]
        }
      ]
    },
    {
      "cell_type": "code",
      "source": [
        "# Count the number of lowercase letters in a string\n",
        "s = input(\"Enter a string: \")\n",
        "c = 0\n",
        "\n",
        "for char in s:\n",
        "    if char.islower():\n",
        "        c += 1\n",
        "\n",
        "print(\"Number of lowercase letters:\", c)"
      ],
      "metadata": {
        "colab": {
          "base_uri": "https://localhost:8080/"
        },
        "id": "Gi5nQquLtGy5",
        "outputId": "408fa2f6-0fc5-43cd-ab02-fe2f14dfccb8"
      },
      "execution_count": null,
      "outputs": [
        {
          "output_type": "stream",
          "name": "stdout",
          "text": [
            "Enter a string: Hi I am learning python\n",
            "Number of lowercase letters: 17\n"
          ]
        }
      ]
    },
    {
      "cell_type": "code",
      "source": [
        "# Swap the case of each character in a string\n",
        "s = input(\"Enter a string: \")\n",
        "swapped_case = s.swapcase()\n",
        "print(\"String with swapped case:\", swapped_case)"
      ],
      "metadata": {
        "colab": {
          "base_uri": "https://localhost:8080/"
        },
        "id": "ct7EJCH8zRYy",
        "outputId": "743bf393-f435-456f-89f8-d8f973afb1e3"
      },
      "execution_count": null,
      "outputs": [
        {
          "output_type": "stream",
          "name": "stdout",
          "text": [
            "Enter a string: Hi I am learning Python.\n",
            "String with swapped case: hI i AM LEARNING pYTHON.\n"
          ]
        }
      ]
    },
    {
      "cell_type": "code",
      "source": [
        "# Remove a specific word from a string\n",
        "s = input(\"Enter a string: \")\n",
        "wr = input(\"Enter the word to remove: \")\n",
        "ms = s.replace(wr, \"\")\n",
        "print(\"String after removing the word:\", ms)"
      ],
      "metadata": {
        "colab": {
          "base_uri": "https://localhost:8080/"
        },
        "id": "7zUcCbQdzxkB",
        "outputId": "5270c293-45ad-4fe1-ae23-f0f34633d11c"
      },
      "execution_count": null,
      "outputs": [
        {
          "output_type": "stream",
          "name": "stdout",
          "text": [
            "Enter a string: Hi I am learning Python.\n",
            "Enter the word to remove: Python\n",
            "String after removing the word: Hi I am learning .\n"
          ]
        }
      ]
    },
    {
      "cell_type": "code",
      "source": [
        "# Check if a string is a valid email address\n",
        "def is_valid_email(email):\n",
        "    if '@' in email and '.' in email:\n",
        "        return True\n",
        "    return False\n",
        "\n",
        "user_email = input(\"Enter an email address: \")\n",
        "\n",
        "if is_valid_email(user_email):\n",
        "    print(\"Valid email address.\")\n",
        "else:\n",
        "    print(\"Invalid email address.\")"
      ],
      "metadata": {
        "colab": {
          "base_uri": "https://localhost:8080/"
        },
        "id": "TAqJTzj9zxhx",
        "outputId": "9cc14b24-3b18-4716-f8ba-e2ddecf25a35"
      },
      "execution_count": null,
      "outputs": [
        {
          "output_type": "stream",
          "name": "stdout",
          "text": [
            "Enter an email address: pralay23@duck.com\n",
            "Valid email address.\n"
          ]
        }
      ]
    },
    {
      "cell_type": "code",
      "source": [
        "# Extract the username from an email address string\n",
        "def extract_username(email):\n",
        "    if '@' in email:\n",
        "        username = email.split('@')[0]\n",
        "        return username\n",
        "    return \"Invalid email format\"\n",
        "\n",
        "user_email = input(\"Enter an email address: \")\n",
        "\n",
        "username = extract_username(user_email)\n",
        "print(\"Username:\", username)"
      ],
      "metadata": {
        "colab": {
          "base_uri": "https://localhost:8080/"
        },
        "id": "gv-xXyOD1F22",
        "outputId": "99283997-f8bb-45b0-cb04-4eb14eb837ae"
      },
      "execution_count": null,
      "outputs": [
        {
          "output_type": "stream",
          "name": "stdout",
          "text": [
            "Enter an email address: pralay23@duck.com\n",
            "Username: pralay23\n"
          ]
        }
      ]
    },
    {
      "cell_type": "code",
      "source": [
        "# Extract the domain name from an email address string\n",
        "def extract_domain(email):\n",
        "    if '@' in email:\n",
        "        domain = email.split('@')[1]\n",
        "        return domain\n",
        "    return \"Invalid email format\"\n",
        "\n",
        "user_email = input(\"Enter an email address: \")\n",
        "\n",
        "domain = extract_domain(user_email)\n",
        "print(\"Domain:\", domain)\n"
      ],
      "metadata": {
        "colab": {
          "base_uri": "https://localhost:8080/"
        },
        "id": "0jGIHlBQ1e8Z",
        "outputId": "aa01f80b-d1d7-41b7-8336-9436fb8c7b2b"
      },
      "execution_count": null,
      "outputs": [
        {
          "output_type": "stream",
          "name": "stdout",
          "text": [
            "Enter an email address: pralay23@yahoo.com\n",
            "Domain: yahoo.com\n"
          ]
        }
      ]
    },
    {
      "cell_type": "code",
      "source": [
        "# Replace multiple spaces in a string with a single space\n",
        "s = input(\"Enter a string: \")\n",
        "ms = ' '.join(s.split())\n",
        "print(\"String with multiple spaces replaced:\", ms)"
      ],
      "metadata": {
        "colab": {
          "base_uri": "https://localhost:8080/"
        },
        "id": "0t9AO4NV1e5J",
        "outputId": "6394bc8c-8036-4b2b-900f-1c91fbaed286"
      },
      "execution_count": null,
      "outputs": [
        {
          "output_type": "stream",
          "name": "stdout",
          "text": [
            "Enter a string: Hi         I  am            learning Python.\n",
            "String with multiple spaces replaced: Hi I am learning Python.\n"
          ]
        }
      ]
    },
    {
      "cell_type": "code",
      "source": [
        "# Check if a string is a valid URL\n",
        "def is_valid_url(url):\n",
        "    valid_schemes = ['http', 'https']\n",
        "    if any(url.startswith(scheme) for scheme in valid_schemes):\n",
        "        return True\n",
        "    return False\n",
        "\n",
        "user_url = input(\"Enter a URL: \")\n",
        "\n",
        "if is_valid_url(user_url):\n",
        "    print(\"Valid URL.\")\n",
        "else:\n",
        "    print(\"Invalid URL.\")"
      ],
      "metadata": {
        "colab": {
          "base_uri": "https://localhost:8080/"
        },
        "id": "goBJoOU12T44",
        "outputId": "ae4b474d-2b66-442b-88eb-4584cf5e0463"
      },
      "execution_count": null,
      "outputs": [
        {
          "output_type": "stream",
          "name": "stdout",
          "text": [
            "Enter a URL: https://stackoverflow.com/\n",
            "Valid URL.\n"
          ]
        }
      ]
    },
    {
      "cell_type": "code",
      "source": [
        "# Extract the protocol (http or https) from a URL string\n",
        "def extract_protocol(url):\n",
        "    if url.startswith('https://'):\n",
        "        return 'https'\n",
        "    elif url.startswith('http://'):\n",
        "        return 'http'\n",
        "    else:\n",
        "        return None\n",
        "\n",
        "user_url = input(\"Enter a URL: \")\n",
        "\n",
        "protocol = extract_protocol(user_url)\n",
        "\n",
        "if protocol:\n",
        "    print(f\"The protocol in the URL is: {protocol}\")\n",
        "else:\n",
        "    print(\"No valid protocol found in the URL.\")"
      ],
      "metadata": {
        "colab": {
          "base_uri": "https://localhost:8080/"
        },
        "id": "eIK0o8UD203-",
        "outputId": "505ae7ee-eb0e-4d09-9b7c-dc099981309b"
      },
      "execution_count": null,
      "outputs": [
        {
          "output_type": "stream",
          "name": "stdout",
          "text": [
            "Enter a URL: https://stackoverflow.com/\n",
            "The protocol in the URL is: https\n"
          ]
        }
      ]
    },
    {
      "cell_type": "code",
      "source": [
        "# Find the frequency of each character in a string\n",
        "def character_frequency(s):\n",
        "    frequency = {}\n",
        "    for char in s:\n",
        "        if char in frequency:\n",
        "            frequency[char] += 1\n",
        "        else:\n",
        "            frequency[char] = 1\n",
        "    return frequency\n",
        "\n",
        "user_input = input(\"Enter a string: \")\n",
        "\n",
        "char_freq = character_frequency(user_input)\n",
        "\n",
        "print(\"Character frequencies:\")\n",
        "for char, freq in char_freq.items():\n",
        "    print(f\"'{char}' : {freq}\")"
      ],
      "metadata": {
        "colab": {
          "base_uri": "https://localhost:8080/"
        },
        "id": "jh6P1kcz2012",
        "outputId": "c16dcac5-9723-4090-f871-212cd1995815"
      },
      "execution_count": null,
      "outputs": [
        {
          "output_type": "stream",
          "name": "stdout",
          "text": [
            "Enter a string: Abbreviation\n",
            "Character frequencies:\n",
            "'A' : 1\n",
            "'b' : 2\n",
            "'r' : 1\n",
            "'e' : 1\n",
            "'v' : 1\n",
            "'i' : 2\n",
            "'a' : 1\n",
            "'t' : 1\n",
            "'o' : 1\n",
            "'n' : 1\n"
          ]
        }
      ]
    },
    {
      "cell_type": "code",
      "source": [
        "# Remove all punctuation from a string\n",
        "def rp(text):\n",
        "    punctuation_chars = '''!\"#$%&'()*+,-./:;<=>?@[\\]^_`{|}~'''\n",
        "    return ''.join(char for char in text if char not in punctuation_chars)\n",
        "\n",
        "s = input(\"Enter a string: \")\n",
        "result = rp(s)\n",
        "print(\"String without punctuation:\", result)"
      ],
      "metadata": {
        "colab": {
          "base_uri": "https://localhost:8080/"
        },
        "id": "h587a49C3YJL",
        "outputId": "1ddf9216-5519-4f0e-c6bd-92ef9e2669bb"
      },
      "execution_count": null,
      "outputs": [
        {
          "output_type": "stream",
          "name": "stdout",
          "text": [
            "Enter a string: Hello! This, is a string with punctuations.\n",
            "String without punctuation: Hello This is a string with punctuations\n"
          ]
        }
      ]
    },
    {
      "cell_type": "code",
      "source": [
        "# Check if a string contains only digits\n",
        "s = input(\"Enter a string: \")\n",
        "\n",
        "if s.isdigit():\n",
        "    print(\"The string contains only digits.\")\n",
        "else:\n",
        "    print(\"The string contains characters other than digits.\")"
      ],
      "metadata": {
        "colab": {
          "base_uri": "https://localhost:8080/"
        },
        "id": "lKI3ZP-D44Qp",
        "outputId": "21dddfd7-66cf-46d5-b991-7d7e7976c729"
      },
      "execution_count": null,
      "outputs": [
        {
          "output_type": "stream",
          "name": "stdout",
          "text": [
            "Enter a string: 46546498\n",
            "The string contains only digits.\n"
          ]
        }
      ]
    },
    {
      "cell_type": "code",
      "source": [
        "# Check if a string contains only alphabets\n",
        "s = input(\"Enter a string: \")\n",
        "\n",
        "if s.isalpha():\n",
        "    print(\"The string contains only alphabetic characters.\")\n",
        "else:\n",
        "    print(\"The string contains characters other than alphabetic.\")"
      ],
      "metadata": {
        "colab": {
          "base_uri": "https://localhost:8080/"
        },
        "id": "IyWM1vL-44OU",
        "outputId": "60ad29b2-eac2-4eca-bd39-78cd07af6083"
      },
      "execution_count": null,
      "outputs": [
        {
          "output_type": "stream",
          "name": "stdout",
          "text": [
            "Enter a string: Pralay\n",
            "The string contains only alphabetic characters.\n"
          ]
        }
      ]
    },
    {
      "cell_type": "code",
      "source": [
        "# Convert a string to a list of characters\n",
        "user_input = input(\"Enter a string: \")\n",
        "characters_list = [char for char in user_input]\n",
        "print(\"List of characters:\", characters_list)"
      ],
      "metadata": {
        "colab": {
          "base_uri": "https://localhost:8080/"
        },
        "id": "aUFA_xR45k5T",
        "outputId": "e5c48f8b-7054-4f2b-8804-715e8494da44"
      },
      "execution_count": null,
      "outputs": [
        {
          "output_type": "stream",
          "name": "stdout",
          "text": [
            "Enter a string: Remove String\n",
            "List of characters: ['R', 'e', 'm', 'o', 'v', 'e', ' ', 'S', 't', 'r', 'i', 'n', 'g']\n"
          ]
        }
      ]
    },
    {
      "cell_type": "code",
      "source": [
        "# Check if two strings are anagrams\n",
        "s1 = input(\"Enter the first string: \")\n",
        "s2 = input(\"Enter the second string: \")\n",
        "\n",
        "str1 = s1.replace(\" \", \"\").lower()\n",
        "str2 = s2.replace(\" \", \"\").lower()\n",
        "\n",
        "if sorted(str1) == sorted(str2):\n",
        "    print(\"The strings are anagrams.\")\n",
        "else:\n",
        "    print(\"The strings are not anagrams.\")"
      ],
      "metadata": {
        "colab": {
          "base_uri": "https://localhost:8080/"
        },
        "id": "p4eEFdig5k2R",
        "outputId": "6c472c12-0fd1-4c28-a5be-523670fcde28"
      },
      "execution_count": null,
      "outputs": [
        {
          "output_type": "stream",
          "name": "stdout",
          "text": [
            "Enter the first string: Listen\n",
            "Enter the second string: Silent\n",
            "The strings are anagrams.\n"
          ]
        }
      ]
    },
    {
      "cell_type": "code",
      "source": [
        "# Encode a string using a Caesar cipher\n",
        "s = input(\"Enter a string: \")\n",
        "shift_amount = int(input(\"Enter the shift amount (1-25): \"))\n",
        "\n",
        "encrypted_string = \"\"\n",
        "\n",
        "for char in s:\n",
        "    if char.isalpha():\n",
        "        if char.islower():\n",
        "            encrypted_char = chr(((ord(char) - ord('a') + shift_amount) % 26) + ord('a'))\n",
        "        else:\n",
        "            encrypted_char = chr(((ord(char) - ord('A') + shift_amount) % 26) + ord('A'))\n",
        "        encrypted_string += encrypted_char\n",
        "    else:\n",
        "        encrypted_string += char\n",
        "\n",
        "print(\"Encoded string:\", encrypted_string)"
      ],
      "metadata": {
        "id": "gKjlJVV06zTw",
        "colab": {
          "base_uri": "https://localhost:8080/"
        },
        "outputId": "a54d72c9-41e7-4e4e-aba6-379c1c76c49e"
      },
      "execution_count": 17,
      "outputs": [
        {
          "output_type": "stream",
          "name": "stdout",
          "text": [
            "Enter a string: Hello World\n",
            "Enter the shift amount (1-25): 5\n",
            "Encoded string: Mjqqt Btwqi\n"
          ]
        }
      ]
    },
    {
      "cell_type": "code",
      "source": [
        "# Find the most frequent word in a string\n",
        "s = input(\"Enter a string: \")\n",
        "words = s.split()\n",
        "\n",
        "word_count = {}\n",
        "for word in words:\n",
        "    if word in word_count:\n",
        "        word_count[word] += 1\n",
        "    else:\n",
        "        word_count[word] = 1\n",
        "\n",
        "frequent_word = max(word_count, key=word_count.get)\n",
        "\n",
        "print(\"The most frequent word is:\", frequent_word)"
      ],
      "metadata": {
        "colab": {
          "base_uri": "https://localhost:8080/"
        },
        "id": "H-pmkXtx80cI",
        "outputId": "1a2afb97-f006-4ef4-97a2-5cafffb9e053"
      },
      "execution_count": 18,
      "outputs": [
        {
          "output_type": "stream",
          "name": "stdout",
          "text": [
            "Enter a string: Hi he is is a good good boy\n",
            "The most frequent word is: is\n"
          ]
        }
      ]
    },
    {
      "cell_type": "code",
      "source": [
        "# Decode a Caesar cipher encoded string\n",
        "encoded_string = input(\"Enter the encoded string: \")\n",
        "shift_amount = int(input(\"Enter the shift amount (1-25): \"))\n",
        "\n",
        "decoded_string = \"\"\n",
        "\n",
        "for char in encoded_string:\n",
        "    if char.isalpha():\n",
        "        shift = (ord(char.lower()) - ord('a') - shift_amount) % 26\n",
        "        decoded_char = chr(ord('a') + shift) if char.islower() else chr(ord('A') + shift)\n",
        "        decoded_string += decoded_char\n",
        "    else:\n",
        "        decoded_string += char\n",
        "\n",
        "print(\"Decoded string:\", decoded_string)"
      ],
      "metadata": {
        "colab": {
          "base_uri": "https://localhost:8080/"
        },
        "id": "KbXXW2Cg-VP7",
        "outputId": "8d1251f6-6992-4021-f187-28b4988f5387"
      },
      "execution_count": 20,
      "outputs": [
        {
          "output_type": "stream",
          "name": "stdout",
          "text": [
            "Enter the encoded string: Mjqqt Btwqi\n",
            "Enter the shift amount (1-25): 5\n",
            "Decoded string: Hello World\n"
          ]
        }
      ]
    },
    {
      "cell_type": "code",
      "source": [
        "# Find all unique words in a string\n",
        "s = input(\"Enter a string: \")\n",
        "\n",
        "words = s.split()\n",
        "\n",
        "unique_words = []\n",
        "for word in words:\n",
        "    if word not in unique_words:\n",
        "        unique_words.append(word)\n",
        "\n",
        "print(\"Unique words:\", unique_words)"
      ],
      "metadata": {
        "colab": {
          "base_uri": "https://localhost:8080/"
        },
        "id": "dRe4y_Ce_is7",
        "outputId": "8b93c42c-98d5-4d9f-f5a0-27620662ef2d"
      },
      "execution_count": 21,
      "outputs": [
        {
          "output_type": "stream",
          "name": "stdout",
          "text": [
            "Enter a string: Hi he is is a good good boy\n",
            "Unique words: ['Hi', 'he', 'is', 'a', 'good', 'boy']\n"
          ]
        }
      ]
    },
    {
      "cell_type": "code",
      "source": [
        "# Count the number of syllables in a string\n",
        "s = input(\"Enter a string: \")\n",
        "\n",
        "vowels = \"aeiouy\"\n",
        "count = 0\n",
        "was_vowel = False\n",
        "\n",
        "for char in s.lower():\n",
        "    if char in vowels:\n",
        "        if not was_vowel:\n",
        "            count += 1\n",
        "        was_vowel = True\n",
        "    else:\n",
        "        was_vowel = False\n",
        "\n",
        "print(\"Total syllables:\", count)"
      ],
      "metadata": {
        "colab": {
          "base_uri": "https://localhost:8080/"
        },
        "id": "tKcj0nPTAR9P",
        "outputId": "756f316a-26fa-4e65-e2bd-6d5b24dfddf3"
      },
      "execution_count": 22,
      "outputs": [
        {
          "output_type": "stream",
          "name": "stdout",
          "text": [
            "Enter a string: He is a goid boy.\n",
            "Total syllables: 5\n"
          ]
        }
      ]
    },
    {
      "cell_type": "code",
      "source": [
        "# Check if a string contains any special characters\n",
        "s = input(\"Enter a string: \")\n",
        "\n",
        "sc = False\n",
        "\n",
        "for char in s:\n",
        "    if not char.isalnum() and not char.isspace():\n",
        "        sc = True\n",
        "        break\n",
        "\n",
        "if sc:\n",
        "    print(\"The string contains special characters.\")\n",
        "else:\n",
        "    print(\"The string does not contain special characters.\")"
      ],
      "metadata": {
        "colab": {
          "base_uri": "https://localhost:8080/"
        },
        "id": "LM8KREjWBBia",
        "outputId": "044f4fc9-3702-4e00-8269-5eafc54498d7"
      },
      "execution_count": 23,
      "outputs": [
        {
          "output_type": "stream",
          "name": "stdout",
          "text": [
            "Enter a string: Pr@la324\n",
            "The string contains special characters.\n"
          ]
        }
      ]
    },
    {
      "cell_type": "code",
      "source": [
        "# Remove the nth word from a string\n",
        "s = input(\"Enter a string: \")\n",
        "wi = int(input(\"Enter the index of the word to remove (starting from 1): \")) - 1\n",
        "\n",
        "words = s.split()\n",
        "\n",
        "if 0 <= wi < len(words):\n",
        "    wr = words[wi]\n",
        "    words.remove(wr)\n",
        "    updated_string = ' '.join(words)\n",
        "    print(\"String after removing the nth word:\", updated_string)\n",
        "else:\n",
        "    print(\"Invalid index. The word at the specified index doesn't exist.\")"
      ],
      "metadata": {
        "colab": {
          "base_uri": "https://localhost:8080/"
        },
        "id": "Mpug8sCWBm_v",
        "outputId": "f934a64f-7b31-4ed8-b1c5-8889d51bdac9"
      },
      "execution_count": 24,
      "outputs": [
        {
          "output_type": "stream",
          "name": "stdout",
          "text": [
            "Enter a string: He is a good boy.\n",
            "Enter the index of the word to remove (starting from 1): 4\n",
            "String after removing the nth word: He is a boy.\n"
          ]
        }
      ]
    },
    {
      "cell_type": "code",
      "source": [
        "# Insert a word at the nth position in a string\n",
        "s = input(\"Enter a string: \")\n",
        "wi = int(input(\"Enter the index to insert the word (starting from 1): \")) - 1\n",
        "win = input(\"Enter the word to insert: \")\n",
        "\n",
        "words = s.split()\n",
        "\n",
        "if 0 <= wi <= len(words):\n",
        "    words.insert(wi, win)\n",
        "    updated_string = ' '.join(words)\n",
        "    print(\"String after inserting the word:\", updated_string)\n",
        "else:\n",
        "    print(\"Invalid index. The word cannot be inserted at the specified position.\")"
      ],
      "metadata": {
        "colab": {
          "base_uri": "https://localhost:8080/"
        },
        "id": "VzNWC6NTCeta",
        "outputId": "70bc52bf-7af5-464f-b023-cb8d5e244611"
      },
      "execution_count": 25,
      "outputs": [
        {
          "output_type": "stream",
          "name": "stdout",
          "text": [
            "Enter a string: He is a boy.\n",
            "Enter the index to insert the word (starting from 1): 4\n",
            "Enter the word to insert: good\n",
            "String after inserting the word: He is a good boy.\n"
          ]
        }
      ]
    },
    {
      "cell_type": "code",
      "source": [
        "# Convert a CSV string to a list of lists\n",
        "csv_string = input(\"Enter a CSV string: \")\n",
        "\n",
        "# Split the CSV string into rows\n",
        "rows = csv_string.split('\\\\n')\n",
        "\n",
        "# Split each row by columns and create a list of lists\n",
        "csv_list = [row.split(',') for row in rows if row]\n",
        "\n",
        "print(\"List of lists:\", csv_list)"
      ],
      "metadata": {
        "colab": {
          "base_uri": "https://localhost:8080/"
        },
        "id": "9UgNLxbuDOjw",
        "outputId": "4594579a-ac1c-4870-ccae-fc5ec50ea03e"
      },
      "execution_count": 28,
      "outputs": [
        {
          "output_type": "stream",
          "name": "stdout",
          "text": [
            "Enter a CSV string: 1,John,Doe\\n2,Jane,Smith\\n3,Bob,Johnson\n",
            "List of lists: [['1', 'John', 'Doe'], ['2', 'Jane', 'Smith'], ['3', 'Bob', 'Johnson']]\n"
          ]
        }
      ]
    }
  ]
}