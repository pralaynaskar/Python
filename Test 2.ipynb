{
 "cells": [
  {
   "cell_type": "code",
   "execution_count": 1,
   "id": "ff51b2a0",
   "metadata": {},
   "outputs": [
    {
     "name": "stdout",
     "output_type": "stream",
     "text": [
      "30\n"
     ]
    }
   ],
   "source": [
    "a,b=10, 20\n",
    "print(a+b)"
   ]
  },
  {
   "cell_type": "code",
   "execution_count": 3,
   "id": "9994f32d",
   "metadata": {},
   "outputs": [
    {
     "data": {
      "text/plain": [
       "'0xc'"
      ]
     },
     "execution_count": 3,
     "metadata": {},
     "output_type": "execute_result"
    }
   ],
   "source": [
    "hex(12)"
   ]
  },
  {
   "cell_type": "code",
   "execution_count": 4,
   "id": "41ba6f20",
   "metadata": {},
   "outputs": [
    {
     "name": "stdout",
     "output_type": "stream",
     "text": [
      "Enter the First num: 25\n",
      "Enter the Sec num: 36\n",
      "The Sum is  61\n"
     ]
    }
   ],
   "source": [
    "a=int(input(\"Enter the First num: \"))\n",
    "b=int(input(\"Enter the Sec num: \"))\n",
    "c=a+b\n",
    "print(\"The Sum is \",c)"
   ]
  },
  {
   "cell_type": "code",
   "execution_count": 6,
   "id": "ceef7680",
   "metadata": {},
   "outputs": [
    {
     "name": "stdout",
     "output_type": "stream",
     "text": [
      "Enter the First num: 25\n",
      "Enter the Sec num: 15\n",
      "Before Swap  25 15\n",
      "After Swap  15 25\n"
     ]
    }
   ],
   "source": [
    "a=int(input(\"Enter the First num: \"))\n",
    "b=int(input(\"Enter the Sec num: \"))\n",
    "print(\"Before Swap \", a,b)\n",
    "t=a\n",
    "a=b\n",
    "b=t\n",
    "print(\"After Swap \", a,b)"
   ]
  },
  {
   "cell_type": "code",
   "execution_count": 7,
   "id": "b24a4b78",
   "metadata": {},
   "outputs": [
    {
     "name": "stdout",
     "output_type": "stream",
     "text": [
      "Enter the First num: 25\n",
      "Enter the Sec num: 14\n",
      "Before Swap  25 14\n",
      "After Swap  14 25\n"
     ]
    }
   ],
   "source": [
    "a=int(input(\"Enter the First num: \"))\n",
    "b=int(input(\"Enter the Sec num: \"))\n",
    "print(\"Before Swap \", a,b)\n",
    "a,b = b, a\n",
    "print(\"After Swap \", a,b)"
   ]
  },
  {
   "cell_type": "code",
   "execution_count": 9,
   "id": "ba9926d9",
   "metadata": {},
   "outputs": [
    {
     "data": {
      "text/plain": [
       "complex"
      ]
     },
     "execution_count": 9,
     "metadata": {},
     "output_type": "execute_result"
    }
   ],
   "source": [
    "a=3+6j\n",
    "type(a)"
   ]
  },
  {
   "cell_type": "code",
   "execution_count": 11,
   "id": "27fd4bd1",
   "metadata": {},
   "outputs": [
    {
     "name": "stdout",
     "output_type": "stream",
     "text": [
      "PralayNaskar\n"
     ]
    }
   ],
   "source": [
    "s1=\"Pralay\"\n",
    "s2=\"Naskar\"\n",
    "print(s1+ s2)"
   ]
  },
  {
   "cell_type": "code",
   "execution_count": 13,
   "id": "d78f27c9",
   "metadata": {},
   "outputs": [
    {
     "name": "stdout",
     "output_type": "stream",
     "text": [
      "Pralay\n",
      "Naskar\n"
     ]
    }
   ],
   "source": [
    "s1=\"\"\"Pralay\n",
    "Naskar\"\"\"\n",
    "print(s1)"
   ]
  },
  {
   "cell_type": "code",
   "execution_count": 14,
   "id": "426a87eb",
   "metadata": {},
   "outputs": [
    {
     "name": "stdout",
     "output_type": "stream",
     "text": [
      "[1, 2, 3, 4, 5.6, 'Pralay', [10, 20, 30]]\n"
     ]
    }
   ],
   "source": [
    "list=[1,2,3,4,5.6,\"Pralay\",[10,20,30]]\n",
    "print(list)"
   ]
  },
  {
   "cell_type": "code",
   "execution_count": 15,
   "id": "8ef8edbe",
   "metadata": {},
   "outputs": [
    {
     "name": "stdout",
     "output_type": "stream",
     "text": [
      "{40, 10, 20, 30}\n"
     ]
    }
   ],
   "source": [
    "s={10,20,20,30,10,30,40}\n",
    "print(s)"
   ]
  },
  {
   "cell_type": "code",
   "execution_count": null,
   "id": "72107a32",
   "metadata": {},
   "outputs": [],
   "source": []
  }
 ],
 "metadata": {
  "kernelspec": {
   "display_name": "Python 3 (ipykernel)",
   "language": "python",
   "name": "python3"
  },
  "language_info": {
   "codemirror_mode": {
    "name": "ipython",
    "version": 3
   },
   "file_extension": ".py",
   "mimetype": "text/x-python",
   "name": "python",
   "nbconvert_exporter": "python",
   "pygments_lexer": "ipython3",
   "version": "3.11.4"
  }
 },
 "nbformat": 4,
 "nbformat_minor": 5
}
