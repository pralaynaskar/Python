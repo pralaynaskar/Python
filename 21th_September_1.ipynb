{
 "cells": [
  {
   "cell_type": "code",
   "execution_count": 4,
   "id": "4730d1fb",
   "metadata": {},
   "outputs": [
    {
     "name": "stdout",
     "output_type": "stream",
     "text": [
      "Enter a number: -25\n",
      "-25 is a Negetive Number\n"
     ]
    }
   ],
   "source": [
    "# (1) Write a Python program to check if a given number is positive or negative.(if-else only)\n",
    "num = int(input(\"Enter a number: \"))\n",
    "if num>0 :\n",
    "    print(f\"{num} is a Positive Number\")\n",
    "else:\n",
    "    print(f\"{num} is a Negetive Number\")"
   ]
  },
  {
   "cell_type": "code",
   "execution_count": 6,
   "id": "c12a5b86",
   "metadata": {},
   "outputs": [
    {
     "name": "stdout",
     "output_type": "stream",
     "text": [
      "Enter your age: 17\n",
      "Not eligible to vote\n"
     ]
    }
   ],
   "source": [
    "# (2) Create a program that determines if a person is eligible to vote based on their age.(if-else only)\n",
    "age = int(input(\"Enter your age: \"))\n",
    "if age>=18 :\n",
    "    print(\"Eligible to vote\")\n",
    "else:\n",
    "    print(\"Not eligible to vote\")"
   ]
  },
  {
   "cell_type": "code",
   "execution_count": 7,
   "id": "3a09b683",
   "metadata": {},
   "outputs": [
    {
     "name": "stdout",
     "output_type": "stream",
     "text": [
      "Enter first number: 45\n",
      "Enter second number: 65\n",
      "65.0 is maximum number\n"
     ]
    }
   ],
   "source": [
    "# (3) Develop a program to find the maximum of two numbers using if-else statements.(if-else only)\n",
    "num1 = float(input(\"Enter first number: \"))\n",
    "num2 = float(input(\"Enter second number: \"))\n",
    "if num1>num2 :\n",
    "    print(f\"{num1} is maximum number\")\n",
    "else:\n",
    "    print(f\"{num2} is maximum number\")"
   ]
  },
  {
   "cell_type": "code",
   "execution_count": 8,
   "id": "3624fded",
   "metadata": {},
   "outputs": [
    {
     "name": "stdout",
     "output_type": "stream",
     "text": [
      "Enter the year: 1700\n",
      "1700 is not a Leap Year\n"
     ]
    }
   ],
   "source": [
    "# (4) Write a Python script to classify a given year as a leap year or not.(if-else only)\n",
    "year = int(input(\"Enter the year: \"))\n",
    "if (year%400 == 0) or (year%4==0 and year%100!=0):\n",
    "    print(f\"{year} is a Leap Year\")\n",
    "else:\n",
    "    print(f\"{year} is not a Leap Year\")"
   ]
  },
  {
   "cell_type": "code",
   "execution_count": 10,
   "id": "9a2de602",
   "metadata": {},
   "outputs": [
    {
     "name": "stdout",
     "output_type": "stream",
     "text": [
      "Enter a character: E\n",
      "E is a vowel\n"
     ]
    }
   ],
   "source": [
    "# (5) Create a program that checks whether a character is a vowel or a consonant.(if-else only)\n",
    "ch = input(\"Enter a character: \")\n",
    "ch_mod = ch.lower()\n",
    "if ch_mod == 'a' or ch_mod == 'e' or ch_mod == 'i' or ch_mod == 'o' or ch_mod == 'u' :\n",
    "    print(f\"{ch} is a vowel\")\n",
    "else:\n",
    "    print(f\"{ch} is a constant\")"
   ]
  },
  {
   "cell_type": "code",
   "execution_count": 12,
   "id": "24ea7e02",
   "metadata": {},
   "outputs": [
    {
     "name": "stdout",
     "output_type": "stream",
     "text": [
      "Enter a number: 53\n",
      "53.0 is a odd number\n"
     ]
    }
   ],
   "source": [
    "# (6) Implement a program to determine whether a given number is even or odd.(if-else only)\n",
    "num = float(input(\"Enter a number: \"))\n",
    "if num%2 == 0 :\n",
    "    print(f\"{num} is a even number\")\n",
    "else:\n",
    "    print(f\"{num} is a odd number\")"
   ]
  },
  {
   "cell_type": "code",
   "execution_count": 21,
   "id": "20195b4c",
   "metadata": {},
   "outputs": [
    {
     "name": "stdout",
     "output_type": "stream",
     "text": [
      "Enter a number: -90\n",
      "The absolute value of -90.0 is 90.0\n"
     ]
    }
   ],
   "source": [
    "# (7) Write a Python function to calculate the absolute value of a number without using the `abs()` function.(if-else only)\n",
    "num = float(input(\"Enter a number: \"))\n",
    "if num >=0:\n",
    "    print(f\"The absolute value of {num} is {num}\")\n",
    "else:\n",
    "    num1 = -(num)\n",
    "    print(f\"The absolute value of {num} is {num1}\")"
   ]
  },
  {
   "cell_type": "code",
   "execution_count": 24,
   "id": "d2877753",
   "metadata": {},
   "outputs": [
    {
     "name": "stdout",
     "output_type": "stream",
     "text": [
      "Enter three number: 25 12 89\n",
      "89.0 is the largest number\n"
     ]
    }
   ],
   "source": [
    " # (8) Develop a program that determines the largest of three given numbers using if-else statements.(if-else only)\n",
    "num = input(\"Enter three number: \")\n",
    "num1,num2,num3 = map(float, num.split())\n",
    "if num1 > num2 and num1 > num3:\n",
    "    print(f\"{num1} is the largest number\")\n",
    "if num2 > num1 and num2 > num3:\n",
    "    print(f\"{num2} is the largest number\")\n",
    "if num3 > num1 and num3 > num2:\n",
    "    print(f\"{num3} is the largest number\")"
   ]
  },
  {
   "cell_type": "code",
   "execution_count": 18,
   "id": "b07f06b5",
   "metadata": {},
   "outputs": [
    {
     "name": "stdout",
     "output_type": "stream",
     "text": [
      "Enter a string: Level\n",
      "Level is a palindrome\n"
     ]
    }
   ],
   "source": [
    "# (9) Create a program that checks if a given string is a palindrome.(if-else only)\n",
    "string = input(\"Enter a string: \")\n",
    "sm_str = string.lower()\n",
    "rev_str = sm_str[::-1]\n",
    "if rev_str== sm_str:\n",
    "    print(f\"{string} is a palindrome\")\n",
    "else:\n",
    "    print(f\"{string} is not a palindrome\")"
   ]
  },
  {
   "cell_type": "code",
   "execution_count": 21,
   "id": "e08a2c64",
   "metadata": {},
   "outputs": [
    {
     "name": "stdout",
     "output_type": "stream",
     "text": [
      "Enter the student's score: 60\n",
      "The student's grade is: D\n"
     ]
    }
   ],
   "source": [
    "# (10) Write a Python program to calculate the grade based on a student's score.(if-else only)\n",
    "score = float(input(\"Enter the student's score: \"))\n",
    "if score >= 90:\n",
    "    grade = 'A'\n",
    "else:\n",
    "    if score >= 80:\n",
    "        grade = 'B'\n",
    "    else:\n",
    "        if score >= 70:\n",
    "            grade = 'C'\n",
    "        else:\n",
    "            if score >= 60:\n",
    "                grade = 'D'\n",
    "            else:\n",
    "                grade = 'F'\n",
    "print(f\"The student's grade is: {grade}\")\n"
   ]
  },
  {
   "cell_type": "code",
   "execution_count": 20,
   "id": "8b47e75a",
   "metadata": {},
   "outputs": [
    {
     "name": "stdout",
     "output_type": "stream",
     "text": [
      "Enter three number: 15 24 5\n",
      "24.0 is largest number\n"
     ]
    }
   ],
   "source": [
    "# (11) Write a program to find the largest among three numbers using nested if-else statements.(nested if-else only)\n",
    "num = input(\"Enter three number: \")\n",
    "num1,num2,num3 = map(float, num.split())\n",
    "if num1 >= num2:\n",
    "    if num1 >= num3:\n",
    "        largest = num1\n",
    "    else:\n",
    "        largest = num3\n",
    "else:\n",
    "    if num2 >= num3:\n",
    "        largest = num2\n",
    "    else:\n",
    "        largest = num3\n",
    "print(f\"{largest} is largest number\")\n"
   ]
  },
  {
   "cell_type": "code",
   "execution_count": 26,
   "id": "5c4e77a8",
   "metadata": {},
   "outputs": [
    {
     "name": "stdout",
     "output_type": "stream",
     "text": [
      "Enter the of three side of triangle: 5 5 4\n",
      "Isosceles triangle\n"
     ]
    }
   ],
   "source": [
    "# (12) Implement a program to determine if a triangle is equilateral, isosceles, or scalene.(nested if-else only)\n",
    "s = input(\"Enter the of three side of triangle: \")\n",
    "s1,s2,s3 = map(float, s.split())\n",
    "if s1 + s2 > s3 and s1 + s3 > s2 and s2 + s3 > s1:\n",
    "    if s1 == s2 and s2 == s3:\n",
    "        print(\"Equilateral triangle.\")\n",
    "    else:\n",
    "        if s1 == s2 or s1 == s3 or s2 == s3:\n",
    "            print(\"Isosceles triangle\")\n",
    "        else:\n",
    "            print(\"Scalene triangle\")\n",
    "else:\n",
    "    print(\"Not a valid triangle\")\n"
   ]
  },
  {
   "cell_type": "code",
   "execution_count": 27,
   "id": "77f9885e",
   "metadata": {},
   "outputs": [
    {
     "name": "stdout",
     "output_type": "stream",
     "text": [
      "Enter a year: 1700\n",
      "1700 is not a leap year\n"
     ]
    }
   ],
   "source": [
    "# (13) Develop a program that checks if a year is a leap year and also if it is a century year.(nested if-else only)\n",
    "year = int(input(\"Enter a year: \"))\n",
    "if year % 100 == 0:\n",
    "    if year % 400 == 0:\n",
    "        print(f\"{year} is a leap year\")\n",
    "    else:\n",
    "        print(f\"{year} is not a leap year\")\n",
    "else:\n",
    "    if year % 4 == 0:\n",
    "        print(f\"{year} is a leap year\")\n",
    "    else:\n",
    "        print(f\"{year} is neither a leap year\")\n"
   ]
  },
  {
   "cell_type": "code",
   "execution_count": 30,
   "id": "b7dbdde3",
   "metadata": {},
   "outputs": [
    {
     "name": "stdout",
     "output_type": "stream",
     "text": [
      "Enter a number: -12\n",
      "-12.0 is a negetive number\n"
     ]
    }
   ],
   "source": [
    "# (14) Write a Python script to determine if a number is positive, negative, or zero.(nested if-else only)\n",
    "num = float(input(\"Enter a number: \"))\n",
    "if num == 0:\n",
    "    print(\"Enter number is 0\")\n",
    "else:\n",
    "    if num > 0 :\n",
    "        print(f\"{num} is a positive number\")\n",
    "    else:\n",
    "        print(f\"{num} is a negetive number\")"
   ]
  },
  {
   "cell_type": "code",
   "execution_count": 31,
   "id": "2bd9839a",
   "metadata": {},
   "outputs": [
    {
     "name": "stdout",
     "output_type": "stream",
     "text": [
      "Enter your age: 18\n",
      "You are a teenager.\n"
     ]
    }
   ],
   "source": [
    "# (15) Create a program to check if a person is a teenager (between 13 and 19 years old).(nested if-else only)\n",
    "age = int(input(\"Enter your age: \"))\n",
    "if age >= 13:\n",
    "    if age <= 19:\n",
    "        print(\"You are a teenager.\")\n",
    "    else:\n",
    "        print(\"You are not a teenager.\")\n",
    "else:\n",
    "    print(\"You are not a teenager.\")"
   ]
  },
  {
   "cell_type": "code",
   "execution_count": 32,
   "id": "5f2e9870",
   "metadata": {},
   "outputs": [
    {
     "name": "stdout",
     "output_type": "stream",
     "text": [
      "Enter the angle in degrees: 35\n",
      "It's an acute angle.\n"
     ]
    }
   ],
   "source": [
    "# (16) Develop a program that determines the type of angle based on its measure (acute, obtuse, or right).(nested if-else only)\n",
    "angle = float(input(\"Enter the angle in degrees: \"))\n",
    "if angle < 90:\n",
    "    print(\"It's an acute angle.\")\n",
    "else:\n",
    "    if angle == 90:\n",
    "        print(\"It's a right angle.\")\n",
    "    else:\n",
    "        print(\"It's an obtuse angle.\")"
   ]
  },
  {
   "cell_type": "code",
   "execution_count": 18,
   "id": "c77bc000",
   "metadata": {},
   "outputs": [
    {
     "name": "stdout",
     "output_type": "stream",
     "text": [
      "Enter the coefficient of a,b,c: 1 -5 6\n",
      "Discriminant: 1.0\n",
      "Root 1: 3.0\n",
      "Root 2: 2.0\n",
      "Root Type: Real and Distinct Roots\n"
     ]
    }
   ],
   "source": [
    "# (17) Write a Python program to calculate the roots of a quadratic equation.(nested if-else only)\n",
    "import math\n",
    "co = input(\"Enter the coefficient of a,b,c: \")\n",
    "a,b,c = map(float, co.split())\n",
    "d = b**2 - 4*a*c\n",
    "if d > 0:\n",
    "    r1 = (-b + math.sqrt(d)) / (2*a)\n",
    "    r2 = (-b - math.sqrt(d)) / (2*a)\n",
    "    root = \"Real and Distinct Roots\"\n",
    "elif d == 0:\n",
    "    r1 = r2 = -b / (2*a)\n",
    "    root = \"Real and Equal Roots\"\n",
    "else:\n",
    "    real = -b / (2*a)\n",
    "    img = math.sqrt(abs(d)) / (2*a)\n",
    "    r1 = complex(real, img)\n",
    "    r2 = complex(real, -img)\n",
    "    root = \"Complex Roots\"\n",
    "print(f\"Discriminant: {d}\")\n",
    "print(f\"Root 1: {r1}\")\n",
    "print(f\"Root 2: {r2}\")\n",
    "print(f\"Root Type: {root}\")"
   ]
  },
  {
   "cell_type": "code",
   "execution_count": 2,
   "id": "db1efb1f",
   "metadata": {},
   "outputs": [
    {
     "name": "stdout",
     "output_type": "stream",
     "text": [
      "Enter a number (1 for Monday, 2 for Tuesday, etc.): 4\n",
      "The day corresponding to the number 4 is Thursday.\n"
     ]
    }
   ],
   "source": [
    "# (18) Implement a program to determine the day of the week based on a user-provided number (1 for Monday, 2 for Tuesday, etc.).\n",
    "#(nested if-else only)\n",
    "day = int(input(\"Enter a number (1 for Monday, 2 for Tuesday, etc.): \"))\n",
    "if day == 1:\n",
    "    day_name = \"Monday\"\n",
    "else:\n",
    "    if day == 2:\n",
    "        day_name = \"Tuesday\"\n",
    "    else:\n",
    "        if day == 3:\n",
    "            day_name = \"Wednesday\"\n",
    "        else:\n",
    "            if day == 4:\n",
    "                day_name = \"Thursday\"\n",
    "            else:\n",
    "                if day == 5:\n",
    "                    day_name = \"Friday\"\n",
    "                else:\n",
    "                    if day == 6:\n",
    "                        day_name = \"Saturday\"\n",
    "                    else:\n",
    "                        if day == 7:\n",
    "                            day_name = \"Sunday\"\n",
    "                        else:\n",
    "                            day_name = \"Invalid input\"\n",
    "print(f\"The day corresponding to the number {day} is {day_name}.\")"
   ]
  },
  {
   "cell_type": "code",
   "execution_count": 3,
   "id": "de21257b",
   "metadata": {},
   "outputs": [
    {
     "name": "stdout",
     "output_type": "stream",
     "text": [
      "Enter the year: 2022\n",
      "2022 is not a leap year or not evenly divisible by 400.\n"
     ]
    }
   ],
   "source": [
    "# (19) Create a program that determines if a year is a leap year and also if it is evenly divisible by 400.(nested if-else only)\n",
    "year = int(input(\"Enter the year: \"))\n",
    "if year%4 == 0:\n",
    "    if year%100 == 0:\n",
    "        if year%400 == 0:\n",
    "            leap_year = True\n",
    "        else:\n",
    "            leap_year = False\n",
    "    else:\n",
    "        leap_year = True\n",
    "else:\n",
    "    leap_year = False\n",
    "if leap_year:\n",
    "    print(f\"{year} is a leap year and evenly divided by 400.\")\n",
    "else:\n",
    "    print(f\"{year} is not a leap year or not evenly divisible by 400.\")"
   ]
  },
  {
   "cell_type": "code",
   "execution_count": 23,
   "id": "d6294138",
   "metadata": {},
   "outputs": [
    {
     "name": "stdout",
     "output_type": "stream",
     "text": [
      "Enter a number: 23\n",
      "23 is a prime number.\n"
     ]
    }
   ],
   "source": [
    "# (20) Develop a program that checks if a given number is prime or not using nested if-else statements.(nested if-else only)\n",
    "num = int(input(\"Enter a number: \"))\n",
    "prime = True\n",
    "if num < 2:\n",
    "    prime = False\n",
    "else:\n",
    "    for i in range(2, int(num**0.5) + 1):\n",
    "        if num % i == 0:\n",
    "            prime = False\n",
    "            break\n",
    "if prime:\n",
    "    print(f\"{num} is a prime number.\")\n",
    "else:\n",
    "    print(f\"{num} is not a prime number.\")"
   ]
  },
  {
   "cell_type": "code",
   "execution_count": 4,
   "id": "73018a27",
   "metadata": {},
   "outputs": [
    {
     "name": "stdout",
     "output_type": "stream",
     "text": [
      "Enter the score: 70\n",
      "The student's grade is: C\n"
     ]
    }
   ],
   "source": [
    "# (21) Write a Python program to assign grades based on different ranges of scores using elif statements.\n",
    "score = float(input(\"Enter the score: \"))\n",
    "if 90 <= score <= 100:\n",
    "    grade = 'A'\n",
    "elif 80 <= score < 90:\n",
    "    grade = 'B'\n",
    "elif 70 <= score < 80:\n",
    "    grade = 'C'\n",
    "elif 60 <= score < 70:\n",
    "    grade = 'D'\n",
    "elif 0 <= score < 60:\n",
    "    grade = 'F'\n",
    "else:\n",
    "    grade = 'Invalid input'\n",
    "if grade == 'Invalid input':\n",
    "    print(\"Invalid input. Please enter a score between 0 and 100.\")\n",
    "else:\n",
    "    print(f\"The student's grade is: {grade}\")"
   ]
  },
  {
   "cell_type": "code",
   "execution_count": 6,
   "id": "1235c079",
   "metadata": {},
   "outputs": [
    {
     "name": "stdout",
     "output_type": "stream",
     "text": [
      "Enter the of three side of triangle: 45 45 90\n",
      "Isosceles Triangle\n"
     ]
    }
   ],
   "source": [
    "# (22) Implement a program to determine the type of a triangle based on its angles.(elif)\n",
    "a = input(\"Enter the of three side of triangle: \")\n",
    "a1,a2,a3 = map(float, a.split())\n",
    "if a1 + a2 + a3 == 180:\n",
    "    if a1 == a2 == a3:\n",
    "        print(\"Equilateral Triangle\")\n",
    "    elif a1 == a2 or a2 == a3 or a1 == a3:\n",
    "        print(\"Isosceles Triangle\")\n",
    "    else:\n",
    "        print(\"Scalene Triangle\")\n",
    "else:\n",
    "    triangle_type = \"Invalid input (angles do not add up to 180 degrees)\""
   ]
  },
  {
   "cell_type": "code",
   "execution_count": 7,
   "id": "93fb2aac",
   "metadata": {},
   "outputs": [
    {
     "name": "stdout",
     "output_type": "stream",
     "text": [
      "Enter your weight in kilograms: 80\n",
      "Enter your height in meters: 1.8288\n",
      "Your BMI is 23.92, and you are categorized as 'Normal'.\n"
     ]
    }
   ],
   "source": [
    "# (23) Develop a program to categorize a given person's BMI into underweight, normal, overweight, or obese using elif statements.\n",
    "weight = float(input(\"Enter your weight in kilograms: \"))\n",
    "height = float(input(\"Enter your height in meters: \"))\n",
    "bmi = weight / (height ** 2)\n",
    "if bmi < 18.5:\n",
    "    category = \"Underweight\"\n",
    "elif 18.5 <= bmi < 24.9:\n",
    "    category = \"Normal\"\n",
    "elif 24.9 <= bmi < 29.9:\n",
    "    category = \"Overweight\"\n",
    "else:\n",
    "    category = \"Obese\"\n",
    "print(f\"Your BMI is {bmi:.2f}, and you are categorized as '{category}'.\")"
   ]
  },
  {
   "cell_type": "code",
   "execution_count": 8,
   "id": "55c84347",
   "metadata": {},
   "outputs": [
    {
     "name": "stdout",
     "output_type": "stream",
     "text": [
      "Enter a number: 25\n",
      "25.0 is a positive number\n"
     ]
    }
   ],
   "source": [
    "# (24) Create a program that determines whether a given number is positive, negative, or zero using elif statements.\n",
    "num = float(input(\"Enter a number: \"))\n",
    "if num == 0 :\n",
    "    print(\"Enter number is 0\")\n",
    "elif num > 0 :\n",
    "    print(f\"{num} is a positive number\")\n",
    "elif num < 0 :\n",
    "    print(f\"{num} is a negetive number\")\n",
    "else:\n",
    "    print(\"!! Invalid Input !!\")"
   ]
  },
  {
   "cell_type": "code",
   "execution_count": 9,
   "id": "cd80dae6",
   "metadata": {},
   "outputs": [
    {
     "name": "stdout",
     "output_type": "stream",
     "text": [
      "Enter a character: H\n",
      "The character 'H' is a Uppercase character.\n"
     ]
    }
   ],
   "source": [
    "# (25) Write a Python script to determine the type of a character (uppercase, lowercase, or special) using elif statements.\n",
    "character = input(\"Enter a character: \")\n",
    "if character.isalpha():\n",
    "    if character.islower():\n",
    "        char_type = \"Lowercase\"\n",
    "    elif character.isupper():\n",
    "        char_type = \"Uppercase\"\n",
    "else:\n",
    "    char_type = \"Special character or digit\"\n",
    "print(f\"The character '{character}' is a {char_type} character.\")"
   ]
  },
  {
   "cell_type": "code",
   "execution_count": 11,
   "id": "0be249de",
   "metadata": {},
   "outputs": [
    {
     "name": "stdout",
     "output_type": "stream",
     "text": [
      "Enter the purchase amount: ₹10000\n",
      "Original Price: ₹10000.00\n",
      "Discount Applied: 10.0%\n",
      "Discounted Price: ₹9000.00\n"
     ]
    }
   ],
   "source": [
    "# (26) Implement a program to calculate the discounted price based on different purchase amounts using elif statements.\n",
    "amount = float(input(\"Enter the purchase amount: ₹\"))\n",
    "discount = 0.0\n",
    "if amount >= 1000:\n",
    "    discount = 0.1\n",
    "elif amount >= 500:\n",
    "    discount = 0.05\n",
    "discounted_price = amount - (amount * discount)\n",
    "print(f\"Original Price: ₹{amount:.2f}\")\n",
    "print(f\"Discount Applied: {discount * 100}%\")\n",
    "print(f\"Discounted Price: ₹{discounted_price:.2f}\")"
   ]
  },
  {
   "cell_type": "code",
   "execution_count": 13,
   "id": "ceaeaef4",
   "metadata": {},
   "outputs": [
    {
     "name": "stdout",
     "output_type": "stream",
     "text": [
      "Enter the electricity consumption in kWh: 228\n",
      "Electricity Consumption: 228.0 kWh\n",
      "Electricity Rate: ₹6.89 per kWh\n",
      "Total Bill: ₹1570.92\n"
     ]
    }
   ],
   "source": [
    "# (27) Develop a program to calculate the electricity bill based on different consumption slabs using elifstatements.\n",
    "consumption = float(input(\"Enter the electricity consumption in kWh: \"))\n",
    "rate = 0.0\n",
    "total = 0.0\n",
    "if consumption <= 75:\n",
    "    rate = 3.68\n",
    "elif consumption <= 102:\n",
    "    rate = 5\n",
    "elif consumption <= 180:\n",
    "    rate = 6.24\n",
    "elif consumption <= 300:\n",
    "    rate = 6.89\n",
    "elif consumption <= 600:\n",
    "    rate = 7.44\n",
    "elif consumption <= 900:\n",
    "    rate = 7.43\n",
    "else:\n",
    "    rate = 9.22\n",
    "total = consumption * rate\n",
    "print(f\"Electricity Consumption: {consumption} kWh\")\n",
    "print(f\"Electricity Rate: ₹{rate:.2f} per kWh\")\n",
    "print(f\"Total Bill: ₹{total:.2f}\")"
   ]
  },
  {
   "cell_type": "code",
   "execution_count": 15,
   "id": "2ccd4551",
   "metadata": {},
   "outputs": [
    {
     "name": "stdout",
     "output_type": "stream",
     "text": [
      "Enter the length of 4 side: 10 5 10 5\n",
      "Enter the mesure of 4 angle(in degrees): 45 45 45 45\n",
      "The quadrilateral is a Parallelogram.\n"
     ]
    }
   ],
   "source": [
    "# (28) Create a program to determine the type of quadrilateral based on its angles and sides using elif statements.\n",
    "s = input(\"Enter the length of 4 side: \")\n",
    "s1,s2,s3,s4 = map(float, s.split())\n",
    "a = input(\"Enter the mesure of 4 angle(in degrees): \")\n",
    "a1,a2,a3,a4 = map(float, a.split())\n",
    "if a1 == a2 == a3 == a4 == 90:\n",
    "    if s1 == s2 == s3 == s4:\n",
    "        print(\"The quadrilateral is a Square.\")\n",
    "    elif s1 == s2 and s3 == s4:\n",
    "        print(\"The quadrilateral is a Rectangle.\")\n",
    "    else:\n",
    "        print(\"The quadrilateral is a Quadrilateral with all right angles.\")\n",
    "elif s1 == s2 == s3 == s4:\n",
    "    print(\"The quadrilateral is a Rhombus.\")\n",
    "elif s1 == s3 and s2 == s4:\n",
    "    print(\"The quadrilateral is a Parallelogram.\")\n",
    "elif a1 == a3 and a2 == a4:\n",
    "    print(\"The quadrilateral is a Kite.\")\n",
    "else:\n",
    "    print(f\"The quadrilateral is a Other Quadrilateral.\")"
   ]
  },
  {
   "cell_type": "code",
   "execution_count": 16,
   "id": "413e645d",
   "metadata": {},
   "outputs": [
    {
     "name": "stdout",
     "output_type": "stream",
     "text": [
      "Enter the month (1-12): 5\n",
      "The season for month 5 is Spring.\n"
     ]
    }
   ],
   "source": [
    "# (29) Write a Python script to determine the season based on a user-provided month using elif statements.\n",
    "month = int(input(\"Enter the month (1-12): \"))\n",
    "if month >= 1 and month <= 2 or month == 12:\n",
    "    season = \"Winter\"\n",
    "elif month >= 3 and month <= 5:\n",
    "    season = \"Spring\"\n",
    "elif month >= 6 and month <= 8:\n",
    "    season = \"Summer\"\n",
    "elif month >= 9 and month <= 11:\n",
    "    season = \"Fall\"\n",
    "else:\n",
    "    season = \"Invalid input (month must be between 1 and 12)\"\n",
    "print(f\"The season for month {month} is {season}.\")\n"
   ]
  },
  {
   "cell_type": "code",
   "execution_count": 17,
   "id": "eba9b9b4",
   "metadata": {},
   "outputs": [
    {
     "name": "stdout",
     "output_type": "stream",
     "text": [
      "Enter a year: 2023\n",
      "Enter a month (1-12): 9\n",
      "The year 2023 is a Common year.\n",
      "The month 9 has 30 days.\n"
     ]
    }
   ],
   "source": [
    "# (30) Implement a program to determine the type of a year (leap or common) and month (30 or 31 days) using elif statements.\n",
    "year = int(input(\"Enter a year: \"))\n",
    "month = int(input(\"Enter a month (1-12): \"))\n",
    "if (year % 4 == 0 and year % 100 != 0) or (year % 400 == 0):\n",
    "    year_type = \"Leap\"\n",
    "else:\n",
    "    year_type = \"Common\"\n",
    "if month == 4 or month == 6 or month == 9 or month == 11:\n",
    "    days = 30\n",
    "elif month == 2:\n",
    "    if year_type == \"Leap\":\n",
    "        days = 29\n",
    "    else:\n",
    "        days = 28\n",
    "else:\n",
    "    days = 31\n",
    "print(f\"The year {year} is a {year_type} year.\")\n",
    "print(f\"The month {month} has {days} days.\")\n"
   ]
  }
 ],
 "metadata": {
  "kernelspec": {
   "display_name": "Python 3 (ipykernel)",
   "language": "python",
   "name": "python3"
  },
  "language_info": {
   "codemirror_mode": {
    "name": "ipython",
    "version": 3
   },
   "file_extension": ".py",
   "mimetype": "text/x-python",
   "name": "python",
   "nbconvert_exporter": "python",
   "pygments_lexer": "ipython3",
   "version": "3.11.4"
  }
 },
 "nbformat": 4,
 "nbformat_minor": 5
}
